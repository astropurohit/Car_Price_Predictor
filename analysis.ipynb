{
 "cells": [
  {
   "cell_type": "code",
   "execution_count": 35,
   "id": "f5fc41f8-a7b4-4038-82e3-4517e5c21e1e",
   "metadata": {},
   "outputs": [],
   "source": [
    "import pandas as pd\n",
    "import numpy as np\n",
    "import matplotlib.pyplot as plt"
   ]
  },
  {
   "cell_type": "code",
   "execution_count": 2,
   "id": "e8626cb1-a57e-4020-8553-20219523bbaa",
   "metadata": {},
   "outputs": [],
   "source": [
    "df=pd.read_csv('car.csv')"
   ]
  },
  {
   "cell_type": "code",
   "execution_count": 3,
   "id": "d3742ed6-3191-4ca0-9c68-9785c3268789",
   "metadata": {},
   "outputs": [
    {
     "data": {
      "text/html": [
       "<div>\n",
       "<style scoped>\n",
       "    .dataframe tbody tr th:only-of-type {\n",
       "        vertical-align: middle;\n",
       "    }\n",
       "\n",
       "    .dataframe tbody tr th {\n",
       "        vertical-align: top;\n",
       "    }\n",
       "\n",
       "    .dataframe thead th {\n",
       "        text-align: right;\n",
       "    }\n",
       "</style>\n",
       "<table border=\"1\" class=\"dataframe\">\n",
       "  <thead>\n",
       "    <tr style=\"text-align: right;\">\n",
       "      <th></th>\n",
       "      <th>name</th>\n",
       "      <th>company</th>\n",
       "      <th>year</th>\n",
       "      <th>Price</th>\n",
       "      <th>kms_driven</th>\n",
       "      <th>fuel_type</th>\n",
       "    </tr>\n",
       "  </thead>\n",
       "  <tbody>\n",
       "    <tr>\n",
       "      <th>0</th>\n",
       "      <td>Hyundai Santro Xing XO eRLX Euro III</td>\n",
       "      <td>Hyundai</td>\n",
       "      <td>2007</td>\n",
       "      <td>80,000</td>\n",
       "      <td>45,000 kms</td>\n",
       "      <td>Petrol</td>\n",
       "    </tr>\n",
       "    <tr>\n",
       "      <th>1</th>\n",
       "      <td>Mahindra Jeep CL550 MDI</td>\n",
       "      <td>Mahindra</td>\n",
       "      <td>2006</td>\n",
       "      <td>4,25,000</td>\n",
       "      <td>40 kms</td>\n",
       "      <td>Diesel</td>\n",
       "    </tr>\n",
       "    <tr>\n",
       "      <th>2</th>\n",
       "      <td>Maruti Suzuki Alto 800 Vxi</td>\n",
       "      <td>Maruti</td>\n",
       "      <td>2018</td>\n",
       "      <td>Ask For Price</td>\n",
       "      <td>22,000 kms</td>\n",
       "      <td>Petrol</td>\n",
       "    </tr>\n",
       "    <tr>\n",
       "      <th>3</th>\n",
       "      <td>Hyundai Grand i10 Magna 1.2 Kappa VTVT</td>\n",
       "      <td>Hyundai</td>\n",
       "      <td>2014</td>\n",
       "      <td>3,25,000</td>\n",
       "      <td>28,000 kms</td>\n",
       "      <td>Petrol</td>\n",
       "    </tr>\n",
       "    <tr>\n",
       "      <th>4</th>\n",
       "      <td>Ford EcoSport Titanium 1.5L TDCi</td>\n",
       "      <td>Ford</td>\n",
       "      <td>2014</td>\n",
       "      <td>5,75,000</td>\n",
       "      <td>36,000 kms</td>\n",
       "      <td>Diesel</td>\n",
       "    </tr>\n",
       "  </tbody>\n",
       "</table>\n",
       "</div>"
      ],
      "text/plain": [
       "                                     name   company  year          Price  \\\n",
       "0    Hyundai Santro Xing XO eRLX Euro III   Hyundai  2007         80,000   \n",
       "1                 Mahindra Jeep CL550 MDI  Mahindra  2006       4,25,000   \n",
       "2              Maruti Suzuki Alto 800 Vxi    Maruti  2018  Ask For Price   \n",
       "3  Hyundai Grand i10 Magna 1.2 Kappa VTVT   Hyundai  2014       3,25,000   \n",
       "4        Ford EcoSport Titanium 1.5L TDCi      Ford  2014       5,75,000   \n",
       "\n",
       "   kms_driven fuel_type  \n",
       "0  45,000 kms    Petrol  \n",
       "1      40 kms    Diesel  \n",
       "2  22,000 kms    Petrol  \n",
       "3  28,000 kms    Petrol  \n",
       "4  36,000 kms    Diesel  "
      ]
     },
     "execution_count": 3,
     "metadata": {},
     "output_type": "execute_result"
    }
   ],
   "source": [
    "df.head()"
   ]
  },
  {
   "cell_type": "code",
   "execution_count": 4,
   "id": "923627c9-d3f4-49bc-ae21-6b1d93af68f1",
   "metadata": {},
   "outputs": [
    {
     "data": {
      "text/plain": [
       "(892, 6)"
      ]
     },
     "execution_count": 4,
     "metadata": {},
     "output_type": "execute_result"
    }
   ],
   "source": [
    "df.shape"
   ]
  },
  {
   "cell_type": "code",
   "execution_count": 5,
   "id": "e4010cf4-f86a-47a3-b3c0-f7bd97460966",
   "metadata": {},
   "outputs": [
    {
     "name": "stdout",
     "output_type": "stream",
     "text": [
      "<class 'pandas.core.frame.DataFrame'>\n",
      "RangeIndex: 892 entries, 0 to 891\n",
      "Data columns (total 6 columns):\n",
      " #   Column      Non-Null Count  Dtype \n",
      "---  ------      --------------  ----- \n",
      " 0   name        892 non-null    object\n",
      " 1   company     892 non-null    object\n",
      " 2   year        892 non-null    object\n",
      " 3   Price       892 non-null    object\n",
      " 4   kms_driven  840 non-null    object\n",
      " 5   fuel_type   837 non-null    object\n",
      "dtypes: object(6)\n",
      "memory usage: 41.9+ KB\n"
     ]
    }
   ],
   "source": [
    "df.info()"
   ]
  },
  {
   "cell_type": "code",
   "execution_count": 6,
   "id": "bafabd37-7abc-45dc-bff0-45277e592c46",
   "metadata": {},
   "outputs": [
    {
     "data": {
      "text/plain": [
       "array(['Hyundai Santro Xing XO eRLX Euro III', 'Mahindra Jeep CL550 MDI',\n",
       "       'Maruti Suzuki Alto 800 Vxi',\n",
       "       'Hyundai Grand i10 Magna 1.2 Kappa VTVT',\n",
       "       'Ford EcoSport Titanium 1.5L TDCi', 'Ford Figo', 'Hyundai Eon',\n",
       "       'Ford EcoSport Ambiente 1.5L TDCi',\n",
       "       'Maruti Suzuki Alto K10 VXi AMT', 'Skoda Fabia Classic 1.2 MPI',\n",
       "       'Maruti Suzuki Stingray VXi', 'Hyundai Elite i20 Magna 1.2',\n",
       "       'Mahindra Scorpio SLE BS IV', 'Audi A8', 'Audi Q7',\n",
       "       'Mahindra Scorpio S10', 'Maruti Suzuki Alto 800',\n",
       "       'Hyundai i20 Sportz 1.2', 'Maruti Suzuki Alto 800 Lx',\n",
       "       'Maruti Suzuki Vitara Brezza ZDi', 'Maruti Suzuki Alto LX',\n",
       "       'Mahindra Bolero DI', 'Maruti Suzuki Swift Dzire ZDi',\n",
       "       'Mahindra Scorpio S10 4WD', 'Maruti Suzuki Swift Vdi BSIII',\n",
       "       'Maruti Suzuki Wagon R VXi BS III',\n",
       "       'Maruti Suzuki Wagon R VXi Minor',\n",
       "       'Toyota Innova 2.0 G 8 STR BS IV', 'Renault Lodgy 85 PS RXL',\n",
       "       'Skoda Yeti Ambition 2.0 TDI CR 4x2',\n",
       "       'Maruti Suzuki Baleno Delta 1.2',\n",
       "       'Renault Duster 110 PS RxZ Diesel Plus',\n",
       "       'Renault Duster 85 PS RxE Diesel', 'Honda City 1.5 S MT',\n",
       "       'Maruti Suzuki Dzire', 'Honda Amaze', 'Honda Amaze 1.5 SX i DTEC',\n",
       "       'Honda City', 'Datsun Redi GO S', 'Maruti Suzuki SX4 ZXI MT',\n",
       "       'Mitsubishi Pajero Sport Limited Edition',\n",
       "       'Maruti Suzuki Swift VXi 1.2 ABS BS IV', 'Honda City ZX CVT',\n",
       "       'Maruti Suzuki Wagon R LX BS IV', 'Tata Indigo eCS LS CR4 BS IV',\n",
       "       'Volkswagen Polo Highline Exquisite P',\n",
       "       'I want to sell my car Tata Zest', 'Chevrolet Spark LS 1.0',\n",
       "       'Renault Duster 110PS Diesel RxZ', 'Mini Cooper S 1.6',\n",
       "       'Skoda Fabia 1.2L Diesel Ambiente', 'Renault Duster',\n",
       "       'Mahindra Scorpio S4', 'Mahindra Scorpio VLX 2WD BS IV',\n",
       "       'Mahindra Quanto C8', 'Ford EcoSport', 'Honda Brio',\n",
       "       'Volkswagen Vento Highline Plus 1.5 Diesel AT',\n",
       "       'Hyundai i20 Magna', 'Toyota Corolla Altis Diesel D4DG',\n",
       "       'Hyundai Verna Transform SX VTVT',\n",
       "       'Toyota Corolla Altis Petrol Ltd', 'Honda City 1.5 EXi New',\n",
       "       'Skoda Fabia 1.2L Diesel Elegance', 'BMW 3 Series 320i',\n",
       "       'Maruti Suzuki A Star Lxi', 'Toyota Etios GD',\n",
       "       'Ford Figo Diesel EXI Option',\n",
       "       'Maruti Suzuki Swift Dzire VXi 1.2 BS IV',\n",
       "       'Chevrolet Beat LT Diesel', 'BMW 7 Series 740Li Sedan',\n",
       "       'Mahindra XUV500 W8 AWD 2013', 'Hyundai i10 Magna 1.2',\n",
       "       'Hyundai Verna Fluidic New', 'Maruti Suzuki Swift VXi 1.2 BS IV',\n",
       "       'Maruti Suzuki Ertiga ZXI Plus', 'Maruti Suzuki Ertiga Vxi',\n",
       "       'Maruti Suzuki Ertiga VDi', 'Maruti Suzuki Alto LXi BS III',\n",
       "       'Hyundai Grand i10 Asta 1.1 CRDi', 'Honda Amaze 1.2 S i VTEC',\n",
       "       'Hyundai i20 Asta 1.4 CRDI 6 Speed', 'Ford Figo Diesel EXI',\n",
       "       'Maruti Suzuki Eeco 5 STR WITH AC HTR', 'Maruti Suzuki Ertiga ZXi',\n",
       "       'Maruti Suzuki Esteem LXi BS III', 'Maruti Suzuki Ritz VXI',\n",
       "       'Maruti Suzuki Ritz LDi', 'Maruti Suzuki Dzire VDI',\n",
       "       'Toyota Etios Liva G', 'Hyundai i20 Sportz 1.4 CRDI',\n",
       "       'Chevrolet Spark', 'Nissan Micra XV', 'Maruti Suzuki Swift',\n",
       "       'Honda Amaze 1.5 S i DTEC', 'Chevrolet Beat', 'Toyota Corolla',\n",
       "       'Honda City 1.5 V MT', 'Ford EcoSport Trend 1.5L TDCi',\n",
       "       'Hyundai i20 Asta 1.2', 'Tata Indica V2 eLS',\n",
       "       'Maruti Suzuki Alto 800 Lxi', 'Hindustan Motors Ambassador',\n",
       "       'Toyota Corolla Altis 1.8 GL', 'Toyota Corolla Altis 1.8 J',\n",
       "       'Toyota Innova 2.5 GX BS IV 7 STR',\n",
       "       'Volkswagen Jetta Highline TDI AT',\n",
       "       'Volkswagen Polo Comfortline 1.2L P', 'Volkswagen Polo',\n",
       "       'Mahindra Scorpio', 'Nissan Sunny', 'Hyundai Elite i20',\n",
       "       'Renault Kwid', 'Mahindra Scorpio VLX Airbag',\n",
       "       'Chevrolet Spark LT 1.0', 'Datsun Redi GO T O',\n",
       "       'Maruti Suzuki Swift RS VDI', 'Fiat Punto Emotion 1.2',\n",
       "       'Hyundai i10 Sportz 1.2', 'Chevrolet Beat LT Opt Diesel',\n",
       "       'Chevrolet Beat LS Diesel', 'Tata Indigo CS',\n",
       "       'Maruti Suzuki Swift VDi', 'Hyundai Eon Era Plus',\n",
       "       'Mahindra XUV500', 'Ford Fiesta', 'Maruti Suzuki Wagon R',\n",
       "       'Hyundai i20', 'Tata Indigo eCS LX TDI BS III',\n",
       "       'Hyundai Fluidic Verna 1.6 CRDi SX',\n",
       "       'Commercial , DZire LDI, 2016, for sale', 'Fiat Petra ELX 1.2 PS',\n",
       "       'Hyundai Santro Xing XS', 'Maruti Suzuki Ciaz VXi Plus',\n",
       "       'Maruti Suzuki Zen VX', 'Hyundai Creta 1.6 SX Plus Petrol',\n",
       "       'Tata indigo ecs LX, 201', 'Mahindra Scorpio SLX',\n",
       "       'Toyota Innova 2.5 G BS III 8 STR',\n",
       "       'Maruti Suzuki Wagon R LXI BS IV', 'Tata Nano Cx BSIV',\n",
       "       'Maruti Suzuki Alto Std BS IV', 'Maruti Suzuki Wagon R LXi BS III',\n",
       "       'Maruti Suzuki Swift VXI BSIII',\n",
       "       'Tata Sumo Victa EX 10 by 7 Str BSIII', 'MARUTI SUZUKI DESI',\n",
       "       'Volkswagen Passat Diesel Comfortline AT',\n",
       "       'Renault Scala RxL Diesel Travelogue',\n",
       "       'Hyundai Grand i10 Sportz O 1.2 Kappa VTVT',\n",
       "       'Hyundai i20 Active 1.2 SX', 'Mahindra Xylo E4',\n",
       "       'Mahindra Jeep MM 550 XDB', 'Mahindra Bolero SLE BS IV',\n",
       "       'Force Motors Force One LX ABS 7 STR', 'Maruti Suzuki SX4',\n",
       "       'Toyota Etios', 'Honda City ZX VTEC',\n",
       "       'Maruti Suzuki Wagon R LX BS III', 'Honda City VX O MT Diesel',\n",
       "       'Mahindra Thar CRDe 4x4 AC',\n",
       "       'Audi A4 1.8 TFSI Multitronic Premium Plus',\n",
       "       'Mercedes Benz GLA Class 200 CDI Sport',\n",
       "       'Land Rover Freelander 2 SE', 'Renault Kwid RXT',\n",
       "       'Tata Aria Pleasure 4X2', 'Mercedes Benz B Class B180 Sports',\n",
       "       'Datsun GO T O', 'Honda Jazz VX MT',\n",
       "       'Hyundai i20 Active 1.4L SX O', 'Mini Cooper S',\n",
       "       'Maruti Suzuki Ciaz ZXI Plus', 'Chevrolet Tavera Neo',\n",
       "       'Hyundai Eon Sportz', 'Tata Sumo Gold Select Variant',\n",
       "       'Maruti Suzuki Wagon R 1.0', 'Maruti Suzuki Esteem VXi BS III',\n",
       "       'Chevrolet Enjoy 1.4 LS 8 STR', 'Maruti Suzuki Wagon R 1.0 VXi',\n",
       "       'Nissan Terrano XL D Plus', 'Renault Duster 85 PS RxL Diesel',\n",
       "       'Maruti Suzuki Dzire ZXI', 'Renault Kwid RXT Opt',\n",
       "       'Maruti Suzuki Maruti 800 Std', 'Renault Kwid 1.0 RXT AMT',\n",
       "       'Renault Scala RxL Diesel',\n",
       "       'Hyundai Grand i10 Asta 1.2 Kappa VTVT O',\n",
       "       'Chevrolet Beat LS Petrol', 'Hyundai Accent GLX', 'Yama',\n",
       "       'Maruti Suzuki Swift LDi', 'Mahindra TUV300 T4 Plus',\n",
       "       'Tata Indica V2 Xeta e GLE', 'Tata Indigo CS LS DiCOR',\n",
       "       'Mahindra Scorpio VLX Special Edition BS III',\n",
       "       'Tata Indica eV2 LS', 'Honda Accord',\n",
       "       'Ford EcoSport Titanium 1.5 TDCi', 'Maruti Suzuki Ertiga',\n",
       "       'Mahindra Scorpio 2.6 CRDe', 'Honda Mobilio',\n",
       "       'Toyota Corolla Altis', 'Skoda Laura', 'Hyundai Verna Fluidic',\n",
       "       'Maruti Suzuki Vitara Brezza', 'Tata Manza Aura Quadrajet',\n",
       "       'Chevrolet Sail UVA Petrol LT ABS',\n",
       "       'Hyundai Verna Fluidic 1.6 VTVT SX',\n",
       "       'Audi A4 2.0 TDI 177bhp Premium', 'Hyundai Elantra SX',\n",
       "       'Mahindra Scorpio VLX 4WD Airbag', 'Mahindra KUV100 K8 D 6 STR',\n",
       "       'Hyundai Grand i10', 'Hyundai i10', 'Hyundai i20 Active',\n",
       "       'Datsun Redi GO', 'Toyota Etios Liva', 'Hyundai Accent',\n",
       "       'Hyundai Verna', 'Toyota Fortuner', 'Hyundai i10 Sportz',\n",
       "       'Mahindra Bolero Power Plus SLE', 'selling car Ta',\n",
       "       'Honda City 1.5 V MT Exclusive', 'Chevrolet Spark LT 1.0 Airbag',\n",
       "       'Tata Indigo eCS VX CR4 BS IV', 'Tata Zest 90',\n",
       "       'Skoda Rapid Elegance 1.6 TDI CR MT', 'Tata Vista Quadrajet VX',\n",
       "       'Maruti Suzuki Alto K10 VXi AT', 'Maruti Suzuki Zen LXi BS III',\n",
       "       'Maruti Suzuki Swift Dzire Tour LDi', 'Honda City ZX EXi',\n",
       "       'Chevrolet Beat Diesel', 'Maruti Suzuki Swift Dzire car',\n",
       "       'Hyundai Verna 1.4 VTVT', 'Toyota Innova 2.5 E MS 7 STR BS IV',\n",
       "       'Maruti Suzuki Maruti 800 Std – Befo',\n",
       "       'Hyundai Elite i20 Asta 1.4 CRDI',\n",
       "       'Maruti Suzuki Swift Dzire Tour (Gat',\n",
       "       'Maruti Suzuki Versa DX2 8 SEATER BSIII',\n",
       "       'Tata Indigo LX TDI BS III',\n",
       "       'Volkswagen Vento Konekt Diesel Highline',\n",
       "       'Mercedes Benz C Class 200 CDI Classic', 'URJE',\n",
       "       'Hyundai Santro Xing GLS', 'Maruti Suzuki Omni Limited Edition',\n",
       "       'Hyundai Sonata Transform 2.4 GDi MT',\n",
       "       'Hyundai Elite i20 Sportz 1.2', 'Honda Jazz S MT',\n",
       "       'Hyundai Grand i10 Sportz 1.2 Kappa VTVT',\n",
       "       'Maruti Suzuki Zen LXi BSII',\n",
       "       'Mahindra Scorpio W Turbo 2.6DX 9 Seater',\n",
       "       'Swift Dzire Tour 27 Dec 2016 Regis', 'Maruti Suzuki Alto K10 VXi',\n",
       "       'Hyundai Grand i10 Asta 1.2 Kappa VTVT', 'Mahindra XUV500 W8',\n",
       "       'Hyundai i20 Magna O 1.2', 'Renault Duster 85 PS RxL Explore LE',\n",
       "       'Honda Brio V MT', 'Mahindra TUV300 T8',\n",
       "       'Nissan X Trail Select Variant', 'Ford Ikon 1.3 CLXi NXt Finesse',\n",
       "       'Toyota Fortuner 3.0 4x4 MT', 'Tata Manza ELAN Quadrajet',\n",
       "       'Tata zest x', 'Mahindra xyl',\n",
       "       'Mercedes Benz A Class A 180 Sport Petrol', 'Tata Indigo LS',\n",
       "       'Hyundai i20 Magna 1.2', 'Used Commercial Maruti Omn',\n",
       "       'Honda Amaze 1.5 E i DTEC', 'Hyundai Verna 1.6 EX VTVT',\n",
       "       'BMW 5 Series 520d Sedan', 'Skoda Superb 1.8 TFSI AT',\n",
       "       'Audi Q3 2.0 TDI quattro Premium', 'Mahindra Bolero DI BSII',\n",
       "       'Maruti Suzuki Zen Estilo LXI Green CNG',\n",
       "       'Ford Figo Duratorq Diesel Titanium 1.4',\n",
       "       'Maruti Suzuki Wagon R VXI BS IV', 'Mahindra Logan Diesel 1.5 DLS',\n",
       "       'Tata Nano GenX XMA', 'Honda City SV', 'Ford Figo Petrol LXI',\n",
       "       'Hyundai i10 Magna 1.2 Kappa2', 'Toyota Corolla H2',\n",
       "       'Maruti Suzuki Swift Dzire Tour VXi', 'Tata Indigo CS eLS BS IV',\n",
       "       'Hyundai Xcent Base 1.1 CRDi', 'Hyundai Accent Executive Edition',\n",
       "       'Tata Zest XE 75 PS Diesel', 'Maruti Suzuki Dzire LDI',\n",
       "       'Tata Sumo Gold LX BS IV', 'Toyota Corolla Altis GL Petrol',\n",
       "       'Maruti Suzuki Eeco 7 STR', 'Toyota Fortuner 3.0 4x2 MT',\n",
       "       'Mahindra XUV500 W6', 'Tata Tigor Revotron XZ',\n",
       "       'Maruti Suzuki 800', 'Honda Mobilio S i DTEC',\n",
       "       'Hyundai Verna 1.6 CRDI E', 'Maruti Suzuki Omni Select Variant',\n",
       "       'Tata Indica', 'Hyundai Santro Xing', 'Maruti Suzuki Zen Estilo',\n",
       "       'Honda Brio VX AT', 'Maruti Suzuki Wagon R Select Variant',\n",
       "       'Tata Nano Lx BSIV', 'Jaguar XE XE Portfolio',\n",
       "       'Hyundai Xcent S 1.2', 'Hyundai Eon Magna Plus',\n",
       "       'Maruti Suzuki Ritz GENUS VXI',\n",
       "       'Hyundai Grand i10 Magna AT 1.2 Kappa VTVT',\n",
       "       'Hyundai Eon D Lite Plus', 'Honda Amaze 1.2 VX i VTEC',\n",
       "       'Maruti Suzuki Estilo VXi ABS BS IV',\n",
       "       'Maruti Suzuki Vitara Brezza LDi O', 'Toyota Innova 2.0 V',\n",
       "       'Hyundai Creta 1.6 SX Plus Petrol AT', 'Mahindra Scorpio Vlx BSIV',\n",
       "       'Mitsubishi Lancer 1.8 LXi', 'Maruti Suzuki Maruti 800 AC',\n",
       "       'Maruti Suzuki Alto 800 LXI CNG O', 'Ford Fiesta SXi 1.6 ABS',\n",
       "       'Maruti Suzuki Ritz VDi', 'Maruti Suzuki Estilo LX BS IV',\n",
       "       'Audi A6 2.0 TDI Premium', 'Maruti Suzuki Alto',\n",
       "       'Maruti Suzuki Baleno Sigma 1.2', 'Hyundai Verna 1.6 SX VTVT AT',\n",
       "       'Maruti Suzuki Swift GLAM', 'Hyundai Getz Prime 1.3 GVS',\n",
       "       'Hyundai Santro', 'Hyundai Getz Prime 1.3 GLX',\n",
       "       'Chevrolet Beat PS Diesel', 'Ford EcoSport Trend 1.5 Ti VCT',\n",
       "       'Tata Indica V2 DLG', 'BMW X1 xDrive20d xLine',\n",
       "       'Honda City 1.5 V AT', 'Tata Nano', 'Chevrolet Cruze LTZ AT',\n",
       "       'Hyun', 'Maruti Suzuki Swift Dzire VDi', 'Mahindra XUV500 W10',\n",
       "       'Maruti Suzuki Alto K10 LXi CNG', 'Hyundai Accent GLE',\n",
       "       'Force Motors One SUV', 'Datsun Go Plus T O',\n",
       "       'Chevrolet Spark 1.0 LT', 'Toyota Etios Liva GD',\n",
       "       'Renault Duster 85PS Diesel RxL Optional with Nav',\n",
       "       'Chevrolet Enjoy', 'BMW 5 Series 530i', 'Chevrolet Cruze LTZ',\n",
       "       'Jeep Wrangler Unlimited 4x4 Diesel',\n",
       "       'Hyundai Verna VGT CRDi SX ABS', 'Maruti Suzuki Omni',\n",
       "       'Maruti Suzuki Celerio VDi', 'Tata Zest Quadrajet 1.3',\n",
       "       'Tata Indigo CS eLX BS IV', 'Hyundai i10 Era',\n",
       "       'Tata Indigo eCS LX CR4 BS IV', 'Tata Indigo Marina LS',\n",
       "       'Commercial Chevrolet Sail Hatchback ca', 'Hyundai Xcent SX 1.2',\n",
       "       'Tata Nano LX Special Edition', 'Commercial Car Ta',\n",
       "       'Renault Duster 110 PS RxZ Diesel',\n",
       "       'Maruti Suzuki Wagon R AX BSIV', 'Maruti Suzuki Alto K10 New',\n",
       "       'tata Indica', 'Mahindra Xylo E8', 'Tata Manza Aqua Quadrajet',\n",
       "       'Used bt new conditions ta', 'Renault Kwid 1.0', 'Sale tata',\n",
       "       'Tata Venture EX 8 STR', 'Maruti Suzuki Swift Dzire Tour LXi',\n",
       "       'Maruti Suzuki Alto LX BSII', 'Skoda Octavia Classic 1.9 TDI MT',\n",
       "       'Maruti Suzuki Omni LPG BS IV', 'Tata Sumo Gold EX BS IV',\n",
       "       'Tata indigo 2017 top model..', 'Hyundai Verna 1.6 CRDI SX',\n",
       "       'Mahindra Scorpio SLX 2.6 Turbo 8 Str', 'Ford Ikon 1.6 Nxt',\n",
       "       'Tata indigo', 'Toyota Innova 2.5 V 7 STR', 'Nissan Sunny XL',\n",
       "       'Maruti Suzuki Swift VDi BS IV',\n",
       "       'very good condition tata bolts are av', 'Toyota Innova 2.0 G4',\n",
       "       'Sale Hyundai xcent commerc', 'Maruti Suzuki Swift VDi ABS',\n",
       "       'Hyundai Elite i20 Asta 1.2', 'Volkswagen Polo Trendline 1.5L D',\n",
       "       'Toyota Etios Liva Diesel', 'Maruti Suzuki Ciaz ZXi Plus RS',\n",
       "       'Hyundai Elantra 1.8 S', 'Ford EcoSport Trend 1.5L Ti VCT',\n",
       "       'Jaguar XF 2.2 Diesel Luxury',\n",
       "       'Audi Q5 2.0 TDI quattro Premium Plus', 'BMW 3 Series 320d Sedan',\n",
       "       'Maruti Suzuki Swift ZXi 1.2 BS IV', 'BMW X1 sDrive20d',\n",
       "       'Maruti Suzuki S Cross Sigma 1.3', 'Maruti Suzuki Ertiga LDi',\n",
       "       'Volkswagen Vento Comfortline Petrol', 'Mahindra KUV100',\n",
       "       'Maruti Suzuki Swift Dzire Tour VDi', 'Mahindra Scorpio 2.6 SLX',\n",
       "       'Maruti Suzuki Omni 8 STR BS III',\n",
       "       'Volkswagen Jetta Comfortline 1.9 TDI AT', 'Volvo S80 Summum D4',\n",
       "       'Toyota Corolla Altis VL AT Petrol',\n",
       "       'Mitsubishi Pajero Sport 2.5 AT', 'Chevrolet Beat LT Petrol',\n",
       "       'BMW X1', 'Mercedes Benz C Class C 220 CDI Avantgarde',\n",
       "       'Volkswagen Vento Comfortline Diesel', 'Tata Indigo CS GLS',\n",
       "       'Ford Figo Petrol Titanium', 'Honda City ZX GXi',\n",
       "       'Maruti Suzuki Wagon R Duo Lxi', 'Maruti Suzuki Zen LX BSII',\n",
       "       'Renault Duster RxL Petrol', 'Maruti Suzuki Baleno Zeta 1.2',\n",
       "       'Honda WR V S MT Petrol', 'Renault Duster 110 PS RxL Diesel',\n",
       "       'Mahindra Scorpio LX BS III',\n",
       "       'Maruti Suzuki SX4 Celebration Diesel',\n",
       "       'Audi A3 Cabriolet 40 TFSI',\n",
       "       'I want to sell my commercial car due t',\n",
       "       'Hyundai Santro AE GLS Audio',\n",
       "       'i want sale my car.no emi....uber atta', 'Tata ZEST 6 month old',\n",
       "       'Mahindra Xylo D2 BS IV', 'Hyundai Getz GLE',\n",
       "       'Hyundai Creta 1.6 SX', 'Hyundai Santro Xing XL AT eRLX Euro III',\n",
       "       'Hyundai Santro Xing XL eRLX Euro III',\n",
       "       'Tata Indica V2 DLS BS III', 'Honda City 1.5 E MT',\n",
       "       'Nissan Micra XL', 'Honda City 1.5 S Inspire',\n",
       "       'Tata Indica eV2 eXeta eGLX', 'Maruti Suzuki Omni E 8 STR BS IV',\n",
       "       'MARUTI SUZUKI ERTIGA F', 'Hyundai Verna 1.6 CRDI SX Plus AT',\n",
       "       'Chevrolet Tavera LS B3 10 Seats BSII', 'Tata Tiago Revotron XM',\n",
       "       'Tata Tiago Revotorq XZ', 'Tata Nexon', 'Tata',\n",
       "       'Hindustan Motors Ambassador Classic Mark 4 – Befo',\n",
       "       'Ford Fusion 1.4 TDCi Diesel',\n",
       "       'Fiat Linea Emotion 1.4 L T Jet Petrol',\n",
       "       'Ford Ikon 1.3 Flair Josh 100', 'Tata Indica V2 LS',\n",
       "       'Mahindra Xylo D2', 'Hyundai Eon Magna',\n",
       "       'Tata Sumo Grande MKII GX', 'Volkswagen Polo Highline1.2L P',\n",
       "       'Tata Tiago Revotron XZ', 'Tata Indigo eCS',\n",
       "       '2012 Tata Sumo Gold f', 'Mahindra Xylo E8 BS IV',\n",
       "       'Well mentained Tata Sumo',\n",
       "       'all paper updated tata indica v2 and u',\n",
       "       'Maruti Ertiga showroom condition with',\n",
       "       '7 SEATER MAHINDRA BOLERO IN VERY GOOD', '9 SEATER MAHINDRA BOL',\n",
       "       'scratch less Tata I', 'Maruti Suzuki swift dzire for sale in',\n",
       "       'Commercial Chevrolet beat for sale in',\n",
       "       'urgent sell my Mahindra qu', 'Tata Sumo Gold FX BSIII',\n",
       "       'sell my car Maruti Suzuki Swif',\n",
       "       'Maruti Suzuki Swift Dzire good car fo', 'Hyunda',\n",
       "       'Commercial Maruti Suzuki Alto Lxi 800', 'urgent sale Ta',\n",
       "       'Maruti Suzuki Alto vxi t', 'tata', 'TATA INDI', 'Hyundai Creta',\n",
       "       'Tata Bolt XM Petrol', 'Hyundai Venue', 'Maruti Suzuki Ritz',\n",
       "       'Renault Lodgy', 'Hyundai i20 Asta',\n",
       "       'Maruti Suzuki Swift Select Variant', 'Tata Indica V2 DLX BS III',\n",
       "       'Mahindra Scorpio VLX 2.2 mHawk Airbag BSIV',\n",
       "       'Toyota Innova 2.5 E 8 STR', 'Mahindra KUV100 K8 6 STR',\n",
       "       'Datsun Go Plus', 'Ford Endeavor 4x4 Thunder Plus',\n",
       "       'Tata Indica V2', 'Hyundai Santro Xing GL',\n",
       "       'Toyota Innova 2.5 Z Diesel 7 Seater',\n",
       "       'Any type car avaiabel hare...comercica', 'Maruti Suzuki Alto AX',\n",
       "       'Mahindra Logan', 'Maruti Suzuki 800 Std BS III',\n",
       "       'Chevrolet Sail 1.2 LS',\n",
       "       'Volkswagen Vento Highline Plus 1.5 Diesel', 'Tata Manza',\n",
       "       'Toyota Innova 2.0 G1 Petrol 8seater', 'Toyota Etios G',\n",
       "       'Toyota Qualis', 'Mahindra Quanto C4', 'Maruti Suzuki Swift Dzire',\n",
       "       'Hyundai i20 Select Variant', 'Honda City VX Petrol',\n",
       "       'Hyundai Getz', 'Mercedes Benz C Class 200 K MT', 'Skoda Fabia',\n",
       "       'Maruti Suzuki Alto 800 Select Variant',\n",
       "       'Maruti Suzuki Ritz VXI ABS', 'tata zest 2017 f',\n",
       "       'Tata Indica V2 DLE BS III', 'Ta', 'Tata Zest XM Diesel',\n",
       "       'Honda Amaze 1.2 E i VTEC', 'Chevrolet Sail 1.2 LT ABS'],\n",
       "      dtype=object)"
      ]
     },
     "execution_count": 6,
     "metadata": {},
     "output_type": "execute_result"
    }
   ],
   "source": [
    "df['name'].unique()"
   ]
  },
  {
   "cell_type": "code",
   "execution_count": 7,
   "id": "c9e11e9e-ff42-422e-afc7-7cdceef30c99",
   "metadata": {},
   "outputs": [],
   "source": [
    "df['name'] = df['name'].str.split().str.slice(start=0,stop=3).str.join(' ')"
   ]
  },
  {
   "cell_type": "code",
   "execution_count": 8,
   "id": "6cc573cb-e9ea-4407-b537-f6d50e2902a1",
   "metadata": {},
   "outputs": [
    {
     "data": {
      "text/html": [
       "<div>\n",
       "<style scoped>\n",
       "    .dataframe tbody tr th:only-of-type {\n",
       "        vertical-align: middle;\n",
       "    }\n",
       "\n",
       "    .dataframe tbody tr th {\n",
       "        vertical-align: top;\n",
       "    }\n",
       "\n",
       "    .dataframe thead th {\n",
       "        text-align: right;\n",
       "    }\n",
       "</style>\n",
       "<table border=\"1\" class=\"dataframe\">\n",
       "  <thead>\n",
       "    <tr style=\"text-align: right;\">\n",
       "      <th></th>\n",
       "      <th>name</th>\n",
       "      <th>company</th>\n",
       "      <th>year</th>\n",
       "      <th>Price</th>\n",
       "      <th>kms_driven</th>\n",
       "      <th>fuel_type</th>\n",
       "    </tr>\n",
       "  </thead>\n",
       "  <tbody>\n",
       "    <tr>\n",
       "      <th>0</th>\n",
       "      <td>Hyundai Santro Xing</td>\n",
       "      <td>Hyundai</td>\n",
       "      <td>2007</td>\n",
       "      <td>80,000</td>\n",
       "      <td>45,000 kms</td>\n",
       "      <td>Petrol</td>\n",
       "    </tr>\n",
       "    <tr>\n",
       "      <th>1</th>\n",
       "      <td>Mahindra Jeep CL550</td>\n",
       "      <td>Mahindra</td>\n",
       "      <td>2006</td>\n",
       "      <td>4,25,000</td>\n",
       "      <td>40 kms</td>\n",
       "      <td>Diesel</td>\n",
       "    </tr>\n",
       "    <tr>\n",
       "      <th>2</th>\n",
       "      <td>Maruti Suzuki Alto</td>\n",
       "      <td>Maruti</td>\n",
       "      <td>2018</td>\n",
       "      <td>Ask For Price</td>\n",
       "      <td>22,000 kms</td>\n",
       "      <td>Petrol</td>\n",
       "    </tr>\n",
       "    <tr>\n",
       "      <th>3</th>\n",
       "      <td>Hyundai Grand i10</td>\n",
       "      <td>Hyundai</td>\n",
       "      <td>2014</td>\n",
       "      <td>3,25,000</td>\n",
       "      <td>28,000 kms</td>\n",
       "      <td>Petrol</td>\n",
       "    </tr>\n",
       "    <tr>\n",
       "      <th>4</th>\n",
       "      <td>Ford EcoSport Titanium</td>\n",
       "      <td>Ford</td>\n",
       "      <td>2014</td>\n",
       "      <td>5,75,000</td>\n",
       "      <td>36,000 kms</td>\n",
       "      <td>Diesel</td>\n",
       "    </tr>\n",
       "  </tbody>\n",
       "</table>\n",
       "</div>"
      ],
      "text/plain": [
       "                     name   company  year          Price  kms_driven fuel_type\n",
       "0     Hyundai Santro Xing   Hyundai  2007         80,000  45,000 kms    Petrol\n",
       "1     Mahindra Jeep CL550  Mahindra  2006       4,25,000      40 kms    Diesel\n",
       "2      Maruti Suzuki Alto    Maruti  2018  Ask For Price  22,000 kms    Petrol\n",
       "3       Hyundai Grand i10   Hyundai  2014       3,25,000  28,000 kms    Petrol\n",
       "4  Ford EcoSport Titanium      Ford  2014       5,75,000  36,000 kms    Diesel"
      ]
     },
     "execution_count": 8,
     "metadata": {},
     "output_type": "execute_result"
    }
   ],
   "source": [
    "df.head()"
   ]
  },
  {
   "cell_type": "code",
   "execution_count": 9,
   "id": "c8369b63-7c0e-4da5-ad49-4be01eb595cd",
   "metadata": {},
   "outputs": [
    {
     "data": {
      "text/plain": [
       "array(['Hyundai', 'Mahindra', 'Maruti', 'Ford', 'Skoda', 'Audi', 'Toyota',\n",
       "       'Renault', 'Honda', 'Datsun', 'Mitsubishi', 'Tata', 'Volkswagen',\n",
       "       'I', 'Chevrolet', 'Mini', 'BMW', 'Nissan', 'Hindustan', 'Fiat',\n",
       "       'Commercial', 'MARUTI', 'Force', 'Mercedes', 'Land', 'Yamaha',\n",
       "       'selling', 'URJENT', 'Swift', 'Used', 'Jaguar', 'Jeep', 'tata',\n",
       "       'Sale', 'very', 'Volvo', 'i', '2012', 'Well', 'all', '7', '9',\n",
       "       'scratch', 'urgent', 'sell', 'TATA', 'Any', 'Tara'], dtype=object)"
      ]
     },
     "execution_count": 9,
     "metadata": {},
     "output_type": "execute_result"
    }
   ],
   "source": [
    "df['company'].unique()"
   ]
  },
  {
   "cell_type": "code",
   "execution_count": 10,
   "id": "537b22d2-b595-4623-b2f6-320d4c6a5081",
   "metadata": {},
   "outputs": [
    {
     "data": {
      "text/plain": [
       "array(['2007', '2006', '2018', '2014', '2015', '2012', '2013', '2016',\n",
       "       '2010', '2017', '2008', '2011', '2019', '2009', '2005', '2000',\n",
       "       '...', '150k', 'TOUR', '2003', 'r 15', '2004', 'Zest', '/-Rs',\n",
       "       'sale', '1995', 'ara)', '2002', 'SELL', '2001', 'tion', 'odel',\n",
       "       '2 bs', 'arry', 'Eon', 'o...', 'ture', 'emi', 'car', 'able', 'no.',\n",
       "       'd...', 'SALE', 'digo', 'sell', 'd Ex', 'n...', 'e...', 'D...',\n",
       "       ', Ac', 'go .', 'k...', 'o c4', 'zire', 'cent', 'Sumo', 'cab',\n",
       "       't xe', 'EV2', 'r...', 'zest'], dtype=object)"
      ]
     },
     "execution_count": 10,
     "metadata": {},
     "output_type": "execute_result"
    }
   ],
   "source": [
    "df['year'].unique()"
   ]
  },
  {
   "cell_type": "code",
   "execution_count": 11,
   "id": "0ded8d1c-f397-4fa8-9d6c-842b5f812122",
   "metadata": {},
   "outputs": [],
   "source": [
    "df=df[df['year'].str.isnumeric()]"
   ]
  },
  {
   "cell_type": "code",
   "execution_count": 12,
   "id": "b1bb40c0-d12d-4524-a5c1-1de507b8a429",
   "metadata": {},
   "outputs": [],
   "source": [
    "df[\"year\"] = df[\"year\"].astype(\"int32\")"
   ]
  },
  {
   "cell_type": "code",
   "execution_count": 13,
   "id": "98740559-1af6-4c0c-b0b0-864553dc98ce",
   "metadata": {},
   "outputs": [
    {
     "name": "stdout",
     "output_type": "stream",
     "text": [
      "<class 'pandas.core.frame.DataFrame'>\n",
      "Int64Index: 842 entries, 0 to 891\n",
      "Data columns (total 6 columns):\n",
      " #   Column      Non-Null Count  Dtype \n",
      "---  ------      --------------  ----- \n",
      " 0   name        842 non-null    object\n",
      " 1   company     842 non-null    object\n",
      " 2   year        842 non-null    int32 \n",
      " 3   Price       842 non-null    object\n",
      " 4   kms_driven  840 non-null    object\n",
      " 5   fuel_type   837 non-null    object\n",
      "dtypes: int32(1), object(5)\n",
      "memory usage: 42.8+ KB\n"
     ]
    }
   ],
   "source": [
    "df.info()"
   ]
  },
  {
   "cell_type": "code",
   "execution_count": 14,
   "id": "a7fdd7d0-1deb-48d2-9941-9bbedc720a44",
   "metadata": {},
   "outputs": [
    {
     "data": {
      "text/plain": [
       "array(['80,000', '4,25,000', 'Ask For Price', '3,25,000', '5,75,000',\n",
       "       '1,75,000', '1,90,000', '8,30,000', '2,50,000', '1,82,000',\n",
       "       '3,15,000', '4,15,000', '3,20,000', '10,00,000', '5,00,000',\n",
       "       '3,50,000', '1,60,000', '3,10,000', '75,000', '1,00,000',\n",
       "       '2,90,000', '95,000', '1,80,000', '3,85,000', '1,05,000',\n",
       "       '6,50,000', '6,89,999', '4,48,000', '5,49,000', '5,01,000',\n",
       "       '4,89,999', '2,80,000', '3,49,999', '2,84,999', '3,45,000',\n",
       "       '4,99,999', '2,35,000', '2,49,999', '14,75,000', '3,95,000',\n",
       "       '2,20,000', '1,70,000', '85,000', '2,00,000', '5,70,000',\n",
       "       '1,10,000', '4,48,999', '18,91,111', '1,59,500', '3,44,999',\n",
       "       '4,49,999', '8,65,000', '6,99,000', '3,75,000', '2,24,999',\n",
       "       '12,00,000', '1,95,000', '3,51,000', '2,40,000', '90,000',\n",
       "       '1,55,000', '6,00,000', '1,89,500', '2,10,000', '3,90,000',\n",
       "       '1,35,000', '16,00,000', '7,01,000', '2,65,000', '5,25,000',\n",
       "       '3,72,000', '6,35,000', '5,50,000', '4,85,000', '3,29,500',\n",
       "       '2,51,111', '5,69,999', '69,999', '2,99,999', '3,99,999',\n",
       "       '4,50,000', '2,70,000', '1,58,400', '1,79,000', '1,25,000',\n",
       "       '2,99,000', '1,50,000', '2,75,000', '2,85,000', '3,40,000',\n",
       "       '70,000', '2,89,999', '8,49,999', '7,49,999', '2,74,999',\n",
       "       '9,84,999', '5,99,999', '2,44,999', '4,74,999', '2,45,000',\n",
       "       '1,69,500', '3,70,000', '1,68,000', '1,45,000', '98,500',\n",
       "       '2,09,000', '1,85,000', '9,00,000', '6,99,999', '1,99,999',\n",
       "       '5,44,999', '1,99,000', '5,40,000', '49,000', '7,00,000', '55,000',\n",
       "       '8,95,000', '3,55,000', '5,65,000', '3,65,000', '40,000',\n",
       "       '4,00,000', '3,30,000', '5,80,000', '3,79,000', '2,19,000',\n",
       "       '5,19,000', '7,30,000', '20,00,000', '21,00,000', '14,00,000',\n",
       "       '3,11,000', '8,55,000', '5,35,000', '1,78,000', '3,00,000',\n",
       "       '2,55,000', '5,49,999', '3,80,000', '57,000', '4,10,000',\n",
       "       '2,25,000', '1,20,000', '59,000', '5,99,000', '6,75,000', '72,500',\n",
       "       '6,10,000', '2,30,000', '5,20,000', '5,24,999', '4,24,999',\n",
       "       '6,44,999', '5,84,999', '7,99,999', '4,44,999', '6,49,999',\n",
       "       '9,44,999', '5,74,999', '3,74,999', '1,30,000', '4,01,000',\n",
       "       '13,50,000', '1,74,999', '2,39,999', '99,999', '3,24,999',\n",
       "       '10,74,999', '11,30,000', '1,49,000', '7,70,000', '30,000',\n",
       "       '3,35,000', '3,99,000', '65,000', '1,69,999', '1,65,000',\n",
       "       '5,60,000', '9,50,000', '7,15,000', '45,000', '9,40,000',\n",
       "       '1,55,555', '15,00,000', '4,95,000', '8,00,000', '12,99,000',\n",
       "       '5,30,000', '14,99,000', '32,000', '4,05,000', '7,60,000',\n",
       "       '7,50,000', '4,19,000', '1,40,000', '15,40,000', '1,23,000',\n",
       "       '4,98,000', '4,80,000', '4,88,000', '15,25,000', '5,48,900',\n",
       "       '7,25,000', '99,000', '52,000', '28,00,000', '4,99,000',\n",
       "       '3,81,000', '2,78,000', '6,90,000', '2,60,000', '90,001',\n",
       "       '1,15,000', '15,99,000', '1,59,000', '51,999', '2,15,000',\n",
       "       '35,000', '11,50,000', '2,69,000', '60,000', '4,30,000',\n",
       "       '85,00,003', '4,01,919', '4,90,000', '4,24,000', '2,05,000',\n",
       "       '5,49,900', '4,35,000', '1,89,700', '3,89,700', '3,60,000',\n",
       "       '2,95,000', '1,14,990', '10,65,000', '4,70,000', '48,000',\n",
       "       '1,88,000', '4,65,000', '1,79,999', '21,90,000', '23,90,000',\n",
       "       '10,75,000', '4,75,000', '10,25,000', '6,15,000', '19,00,000',\n",
       "       '14,90,000', '15,10,000', '18,50,000', '7,90,000', '17,25,000',\n",
       "       '12,25,000', '68,000', '9,70,000', '31,00,000', '8,99,000',\n",
       "       '88,000', '53,000', '5,68,500', '71,000', '5,90,000', '7,95,000',\n",
       "       '42,000', '1,89,000', '1,62,000', '35,999', '29,00,000', '39,999',\n",
       "       '50,500', '5,10,000', '8,60,000', '5,00,001'], dtype=object)"
      ]
     },
     "execution_count": 14,
     "metadata": {},
     "output_type": "execute_result"
    }
   ],
   "source": [
    "df['Price'].unique()"
   ]
  },
  {
   "cell_type": "code",
   "execution_count": 15,
   "id": "8dd93c7f-893e-49d0-af2e-16c80c870b73",
   "metadata": {},
   "outputs": [],
   "source": [
    "df = df[df['Price']!='Ask For Price']"
   ]
  },
  {
   "cell_type": "code",
   "execution_count": 16,
   "id": "fdd427fd-b39c-4859-93e5-555e0ae26ee0",
   "metadata": {},
   "outputs": [],
   "source": [
    "df[\"Price\"] = df[\"Price\"].str.replace(',','').astype(\"int32\")"
   ]
  },
  {
   "cell_type": "code",
   "execution_count": 17,
   "id": "88b9a6fc-4e6e-4603-bedf-ce9601442328",
   "metadata": {},
   "outputs": [
    {
     "data": {
      "text/html": [
       "<div>\n",
       "<style scoped>\n",
       "    .dataframe tbody tr th:only-of-type {\n",
       "        vertical-align: middle;\n",
       "    }\n",
       "\n",
       "    .dataframe tbody tr th {\n",
       "        vertical-align: top;\n",
       "    }\n",
       "\n",
       "    .dataframe thead th {\n",
       "        text-align: right;\n",
       "    }\n",
       "</style>\n",
       "<table border=\"1\" class=\"dataframe\">\n",
       "  <thead>\n",
       "    <tr style=\"text-align: right;\">\n",
       "      <th></th>\n",
       "      <th>name</th>\n",
       "      <th>company</th>\n",
       "      <th>year</th>\n",
       "      <th>Price</th>\n",
       "      <th>kms_driven</th>\n",
       "      <th>fuel_type</th>\n",
       "    </tr>\n",
       "  </thead>\n",
       "  <tbody>\n",
       "    <tr>\n",
       "      <th>0</th>\n",
       "      <td>Hyundai Santro Xing</td>\n",
       "      <td>Hyundai</td>\n",
       "      <td>2007</td>\n",
       "      <td>80000</td>\n",
       "      <td>45,000 kms</td>\n",
       "      <td>Petrol</td>\n",
       "    </tr>\n",
       "    <tr>\n",
       "      <th>1</th>\n",
       "      <td>Mahindra Jeep CL550</td>\n",
       "      <td>Mahindra</td>\n",
       "      <td>2006</td>\n",
       "      <td>425000</td>\n",
       "      <td>40 kms</td>\n",
       "      <td>Diesel</td>\n",
       "    </tr>\n",
       "    <tr>\n",
       "      <th>3</th>\n",
       "      <td>Hyundai Grand i10</td>\n",
       "      <td>Hyundai</td>\n",
       "      <td>2014</td>\n",
       "      <td>325000</td>\n",
       "      <td>28,000 kms</td>\n",
       "      <td>Petrol</td>\n",
       "    </tr>\n",
       "    <tr>\n",
       "      <th>4</th>\n",
       "      <td>Ford EcoSport Titanium</td>\n",
       "      <td>Ford</td>\n",
       "      <td>2014</td>\n",
       "      <td>575000</td>\n",
       "      <td>36,000 kms</td>\n",
       "      <td>Diesel</td>\n",
       "    </tr>\n",
       "    <tr>\n",
       "      <th>6</th>\n",
       "      <td>Ford Figo</td>\n",
       "      <td>Ford</td>\n",
       "      <td>2012</td>\n",
       "      <td>175000</td>\n",
       "      <td>41,000 kms</td>\n",
       "      <td>Diesel</td>\n",
       "    </tr>\n",
       "  </tbody>\n",
       "</table>\n",
       "</div>"
      ],
      "text/plain": [
       "                     name   company  year   Price  kms_driven fuel_type\n",
       "0     Hyundai Santro Xing   Hyundai  2007   80000  45,000 kms    Petrol\n",
       "1     Mahindra Jeep CL550  Mahindra  2006  425000      40 kms    Diesel\n",
       "3       Hyundai Grand i10   Hyundai  2014  325000  28,000 kms    Petrol\n",
       "4  Ford EcoSport Titanium      Ford  2014  575000  36,000 kms    Diesel\n",
       "6               Ford Figo      Ford  2012  175000  41,000 kms    Diesel"
      ]
     },
     "execution_count": 17,
     "metadata": {},
     "output_type": "execute_result"
    }
   ],
   "source": [
    "df.head()"
   ]
  },
  {
   "cell_type": "code",
   "execution_count": 18,
   "id": "9937cadc-8ab9-4bb9-9fa1-cf585457c51b",
   "metadata": {},
   "outputs": [
    {
     "data": {
      "text/plain": [
       "array(['45,000 kms', '40 kms', '28,000 kms', '36,000 kms', '41,000 kms',\n",
       "       '25,000 kms', '24,530 kms', '60,000 kms', '30,000 kms',\n",
       "       '32,000 kms', '48,660 kms', '4,000 kms', '16,934 kms',\n",
       "       '43,000 kms', '35,550 kms', '39,522 kms', '39,000 kms',\n",
       "       '55,000 kms', '72,000 kms', '15,975 kms', '70,000 kms',\n",
       "       '23,452 kms', '35,522 kms', '48,508 kms', '15,487 kms',\n",
       "       '82,000 kms', '20,000 kms', '68,000 kms', '38,000 kms',\n",
       "       '27,000 kms', '33,000 kms', '46,000 kms', '16,000 kms',\n",
       "       '47,000 kms', '35,000 kms', '30,874 kms', '15,000 kms',\n",
       "       '29,685 kms', '1,30,000 kms', '19,000 kms', '54,000 kms',\n",
       "       '13,000 kms', '38,200 kms', '22,000 kms', '50,000 kms',\n",
       "       '13,500 kms', '3,600 kms', '45,863 kms', '60,500 kms',\n",
       "       '12,500 kms', '18,000 kms', '13,349 kms', '29,000 kms',\n",
       "       '44,000 kms', '42,000 kms', '14,000 kms', '49,000 kms',\n",
       "       '36,200 kms', '51,000 kms', '1,04,000 kms', '33,333 kms',\n",
       "       '33,600 kms', '5,600 kms', '7,500 kms', '26,000 kms', '24,330 kms',\n",
       "       '65,480 kms', '2,00,000 kms', '59,000 kms', '99,000 kms',\n",
       "       '2,800 kms', '21,000 kms', '11,000 kms', '66,000 kms', '3,000 kms',\n",
       "       '7,000 kms', '38,500 kms', '37,200 kms', '43,200 kms',\n",
       "       '24,800 kms', '45,872 kms', '40,000 kms', '11,400 kms',\n",
       "       '97,200 kms', '52,000 kms', '31,000 kms', '1,75,430 kms',\n",
       "       '37,000 kms', '65,000 kms', '3,350 kms', '75,000 kms',\n",
       "       '62,000 kms', '73,000 kms', '2,200 kms', '54,870 kms',\n",
       "       '34,580 kms', '97,000 kms', '60 kms', '80,200 kms', '3,200 kms',\n",
       "       '0,000 kms', '5,000 kms', '588 kms', '71,200 kms', '1,75,400 kms',\n",
       "       '9,300 kms', '56,758 kms', '10,000 kms', '56,450 kms',\n",
       "       '56,000 kms', '32,700 kms', '9,000 kms', '73 kms', '1,60,000 kms',\n",
       "       '58,559 kms', '57,000 kms', '1,70,000 kms', '80,000 kms',\n",
       "       '6,821 kms', '23,000 kms', '34,000 kms', '1,800 kms',\n",
       "       '4,00,000 kms', '48,000 kms', '90,000 kms', '12,000 kms',\n",
       "       '69,900 kms', '1,66,000 kms', '122 kms', '0 kms', '36,469 kms',\n",
       "       '7,800 kms', '24,695 kms', '15,141 kms', '59,910 kms',\n",
       "       '1,00,000 kms', '4,500 kms', '1,29,000 kms', '300 kms',\n",
       "       '1,31,000 kms', '1,11,111 kms', '59,466 kms', '25,500 kms',\n",
       "       '44,005 kms', '2,110 kms', '43,222 kms', '1,00,200 kms', '65 kms',\n",
       "       '1,40,000 kms', '1,03,553 kms', '58,000 kms', '1,20,000 kms',\n",
       "       '49,800 kms', '100 kms', '81,876 kms', '6,020 kms', '55,700 kms',\n",
       "       '18,500 kms', '53,000 kms', '35,500 kms', '22,134 kms',\n",
       "       '1,000 kms', '8,500 kms', '87,000 kms', '6,000 kms', '8,000 kms',\n",
       "       '55,800 kms', '56,400 kms', '72,160 kms', '11,500 kms',\n",
       "       '1,33,000 kms', '2,000 kms', '88,000 kms', '65,422 kms',\n",
       "       '1,17,000 kms', '1,50,000 kms', '10,750 kms', '6,800 kms',\n",
       "       '9,800 kms', '57,923 kms', '30,201 kms', '6,200 kms', '37,518 kms',\n",
       "       '24,652 kms', '383 kms', '95,000 kms', '3,528 kms', '52,500 kms',\n",
       "       '47,900 kms', '52,800 kms', '1,95,000 kms', '48,008 kms',\n",
       "       '48,247 kms', '9,400 kms', '64,000 kms', '2,137 kms', '10,544 kms',\n",
       "       '1,47,000 kms', '90,001 kms', '48,006 kms', '74,000 kms',\n",
       "       '85,000 kms', '29,500 kms', '39,700 kms', '67,000 kms',\n",
       "       '19,336 kms', '60,105 kms', '45,933 kms', '1,02,563 kms',\n",
       "       '28,600 kms', '41,800 kms', '1,16,000 kms', '42,590 kms',\n",
       "       '7,400 kms', '54,500 kms', '76,000 kms', '00 kms', '11,523 kms',\n",
       "       '38,600 kms', '95,500 kms', '37,458 kms', '85,960 kms',\n",
       "       '12,516 kms', '30,600 kms', '2,550 kms', '62,500 kms',\n",
       "       '69,000 kms', '28,400 kms', '68,485 kms', '3,500 kms',\n",
       "       '85,455 kms', '63,000 kms', '1,600 kms', '77,000 kms',\n",
       "       '26,500 kms', '2,875 kms', '13,900 kms', '1,500 kms', '2,450 kms',\n",
       "       '1,625 kms', '33,400 kms', '60,123 kms', '1,37,495 kms',\n",
       "       '91,200 kms', '1,46,000 kms', '1,00,800 kms', '2,100 kms',\n",
       "       '2,500 kms', '1,32,000 kms', 'Petrol'], dtype=object)"
      ]
     },
     "execution_count": 18,
     "metadata": {},
     "output_type": "execute_result"
    }
   ],
   "source": [
    "df['kms_driven'].unique()"
   ]
  },
  {
   "cell_type": "code",
   "execution_count": 19,
   "id": "d50d2521-4eed-4404-9b34-038505cdc644",
   "metadata": {},
   "outputs": [],
   "source": [
    "df['kms_driven']= df['kms_driven'].str.split().str.get(0).str.replace(',','')"
   ]
  },
  {
   "cell_type": "code",
   "execution_count": 20,
   "id": "3d40bc96-50f4-415b-87d3-f9e1f1256228",
   "metadata": {},
   "outputs": [],
   "source": [
    "df = df[df['kms_driven'].str.isnumeric()]"
   ]
  },
  {
   "cell_type": "code",
   "execution_count": 21,
   "id": "d4f4ba28-a802-4fec-b24e-e1669d99e97b",
   "metadata": {},
   "outputs": [],
   "source": [
    "df['kms_driven'] = df['kms_driven'].astype(\"int32\")"
   ]
  },
  {
   "cell_type": "code",
   "execution_count": 22,
   "id": "93cc2176-8a82-4878-b98d-278bbca982ac",
   "metadata": {},
   "outputs": [
    {
     "data": {
      "text/html": [
       "<div>\n",
       "<style scoped>\n",
       "    .dataframe tbody tr th:only-of-type {\n",
       "        vertical-align: middle;\n",
       "    }\n",
       "\n",
       "    .dataframe tbody tr th {\n",
       "        vertical-align: top;\n",
       "    }\n",
       "\n",
       "    .dataframe thead th {\n",
       "        text-align: right;\n",
       "    }\n",
       "</style>\n",
       "<table border=\"1\" class=\"dataframe\">\n",
       "  <thead>\n",
       "    <tr style=\"text-align: right;\">\n",
       "      <th></th>\n",
       "      <th>name</th>\n",
       "      <th>company</th>\n",
       "      <th>year</th>\n",
       "      <th>Price</th>\n",
       "      <th>kms_driven</th>\n",
       "      <th>fuel_type</th>\n",
       "    </tr>\n",
       "  </thead>\n",
       "  <tbody>\n",
       "    <tr>\n",
       "      <th>64</th>\n",
       "      <td>Tata Indigo eCS</td>\n",
       "      <td>Tata</td>\n",
       "      <td>2017</td>\n",
       "      <td>200000</td>\n",
       "      <td>130000</td>\n",
       "      <td>Diesel</td>\n",
       "    </tr>\n",
       "    <tr>\n",
       "      <th>586</th>\n",
       "      <td>Mahindra XUV500 W6</td>\n",
       "      <td>Mahindra</td>\n",
       "      <td>2013</td>\n",
       "      <td>549900</td>\n",
       "      <td>52800</td>\n",
       "      <td>Diesel</td>\n",
       "    </tr>\n",
       "    <tr>\n",
       "      <th>530</th>\n",
       "      <td>Maruti Suzuki Alto</td>\n",
       "      <td>Maruti</td>\n",
       "      <td>2015</td>\n",
       "      <td>90000</td>\n",
       "      <td>55800</td>\n",
       "      <td>Petrol</td>\n",
       "    </tr>\n",
       "    <tr>\n",
       "      <th>390</th>\n",
       "      <td>Toyota Etios</td>\n",
       "      <td>Toyota</td>\n",
       "      <td>2011</td>\n",
       "      <td>275000</td>\n",
       "      <td>36000</td>\n",
       "      <td>Diesel</td>\n",
       "    </tr>\n",
       "    <tr>\n",
       "      <th>309</th>\n",
       "      <td>Maruti Suzuki Ertiga</td>\n",
       "      <td>Maruti</td>\n",
       "      <td>2015</td>\n",
       "      <td>524999</td>\n",
       "      <td>50000</td>\n",
       "      <td>Diesel</td>\n",
       "    </tr>\n",
       "  </tbody>\n",
       "</table>\n",
       "</div>"
      ],
      "text/plain": [
       "                     name   company  year   Price  kms_driven fuel_type\n",
       "64        Tata Indigo eCS      Tata  2017  200000      130000    Diesel\n",
       "586    Mahindra XUV500 W6  Mahindra  2013  549900       52800    Diesel\n",
       "530    Maruti Suzuki Alto    Maruti  2015   90000       55800    Petrol\n",
       "390          Toyota Etios    Toyota  2011  275000       36000    Diesel\n",
       "309  Maruti Suzuki Ertiga    Maruti  2015  524999       50000    Diesel"
      ]
     },
     "execution_count": 22,
     "metadata": {},
     "output_type": "execute_result"
    }
   ],
   "source": [
    "df.sample(5)"
   ]
  },
  {
   "cell_type": "code",
   "execution_count": 23,
   "id": "2d65d178-d393-4224-a826-2d0ebdeb4eb2",
   "metadata": {},
   "outputs": [
    {
     "data": {
      "text/plain": [
       "array(['Petrol', 'Diesel', nan, 'LPG'], dtype=object)"
      ]
     },
     "execution_count": 23,
     "metadata": {},
     "output_type": "execute_result"
    }
   ],
   "source": [
    "df['fuel_type'].unique()"
   ]
  },
  {
   "cell_type": "code",
   "execution_count": 25,
   "id": "a21a72b2-9e49-4cb4-bba2-5d85d02b7d26",
   "metadata": {},
   "outputs": [],
   "source": [
    "df = df[~df['fuel_type'].isna()]"
   ]
  },
  {
   "cell_type": "code",
   "execution_count": 26,
   "id": "18803c65-4f5c-4168-a28f-a4ca57ff86b9",
   "metadata": {},
   "outputs": [
    {
     "data": {
      "text/plain": [
       "(816, 6)"
      ]
     },
     "execution_count": 26,
     "metadata": {},
     "output_type": "execute_result"
    }
   ],
   "source": [
    "df.shape"
   ]
  },
  {
   "cell_type": "code",
   "execution_count": 28,
   "id": "ab98fa9e-2625-499d-b494-f0274be6912a",
   "metadata": {},
   "outputs": [
    {
     "data": {
      "text/html": [
       "<div>\n",
       "<style scoped>\n",
       "    .dataframe tbody tr th:only-of-type {\n",
       "        vertical-align: middle;\n",
       "    }\n",
       "\n",
       "    .dataframe tbody tr th {\n",
       "        vertical-align: top;\n",
       "    }\n",
       "\n",
       "    .dataframe thead th {\n",
       "        text-align: right;\n",
       "    }\n",
       "</style>\n",
       "<table border=\"1\" class=\"dataframe\">\n",
       "  <thead>\n",
       "    <tr style=\"text-align: right;\">\n",
       "      <th></th>\n",
       "      <th>name</th>\n",
       "      <th>company</th>\n",
       "      <th>year</th>\n",
       "      <th>Price</th>\n",
       "      <th>kms_driven</th>\n",
       "      <th>fuel_type</th>\n",
       "    </tr>\n",
       "  </thead>\n",
       "  <tbody>\n",
       "    <tr>\n",
       "      <th>0</th>\n",
       "      <td>Hyundai Santro Xing</td>\n",
       "      <td>Hyundai</td>\n",
       "      <td>2007</td>\n",
       "      <td>80000</td>\n",
       "      <td>45000</td>\n",
       "      <td>Petrol</td>\n",
       "    </tr>\n",
       "    <tr>\n",
       "      <th>1</th>\n",
       "      <td>Mahindra Jeep CL550</td>\n",
       "      <td>Mahindra</td>\n",
       "      <td>2006</td>\n",
       "      <td>425000</td>\n",
       "      <td>40</td>\n",
       "      <td>Diesel</td>\n",
       "    </tr>\n",
       "    <tr>\n",
       "      <th>2</th>\n",
       "      <td>Hyundai Grand i10</td>\n",
       "      <td>Hyundai</td>\n",
       "      <td>2014</td>\n",
       "      <td>325000</td>\n",
       "      <td>28000</td>\n",
       "      <td>Petrol</td>\n",
       "    </tr>\n",
       "    <tr>\n",
       "      <th>3</th>\n",
       "      <td>Ford EcoSport Titanium</td>\n",
       "      <td>Ford</td>\n",
       "      <td>2014</td>\n",
       "      <td>575000</td>\n",
       "      <td>36000</td>\n",
       "      <td>Diesel</td>\n",
       "    </tr>\n",
       "    <tr>\n",
       "      <th>4</th>\n",
       "      <td>Ford Figo</td>\n",
       "      <td>Ford</td>\n",
       "      <td>2012</td>\n",
       "      <td>175000</td>\n",
       "      <td>41000</td>\n",
       "      <td>Diesel</td>\n",
       "    </tr>\n",
       "    <tr>\n",
       "      <th>...</th>\n",
       "      <td>...</td>\n",
       "      <td>...</td>\n",
       "      <td>...</td>\n",
       "      <td>...</td>\n",
       "      <td>...</td>\n",
       "      <td>...</td>\n",
       "    </tr>\n",
       "    <tr>\n",
       "      <th>811</th>\n",
       "      <td>Maruti Suzuki Ritz</td>\n",
       "      <td>Maruti</td>\n",
       "      <td>2011</td>\n",
       "      <td>270000</td>\n",
       "      <td>50000</td>\n",
       "      <td>Petrol</td>\n",
       "    </tr>\n",
       "    <tr>\n",
       "      <th>812</th>\n",
       "      <td>Tata Indica V2</td>\n",
       "      <td>Tata</td>\n",
       "      <td>2009</td>\n",
       "      <td>110000</td>\n",
       "      <td>30000</td>\n",
       "      <td>Diesel</td>\n",
       "    </tr>\n",
       "    <tr>\n",
       "      <th>813</th>\n",
       "      <td>Toyota Corolla Altis</td>\n",
       "      <td>Toyota</td>\n",
       "      <td>2009</td>\n",
       "      <td>300000</td>\n",
       "      <td>132000</td>\n",
       "      <td>Petrol</td>\n",
       "    </tr>\n",
       "    <tr>\n",
       "      <th>814</th>\n",
       "      <td>Tata Zest XM</td>\n",
       "      <td>Tata</td>\n",
       "      <td>2018</td>\n",
       "      <td>260000</td>\n",
       "      <td>27000</td>\n",
       "      <td>Diesel</td>\n",
       "    </tr>\n",
       "    <tr>\n",
       "      <th>815</th>\n",
       "      <td>Mahindra Quanto C8</td>\n",
       "      <td>Mahindra</td>\n",
       "      <td>2013</td>\n",
       "      <td>390000</td>\n",
       "      <td>40000</td>\n",
       "      <td>Diesel</td>\n",
       "    </tr>\n",
       "  </tbody>\n",
       "</table>\n",
       "<p>816 rows × 6 columns</p>\n",
       "</div>"
      ],
      "text/plain": [
       "                       name   company  year   Price  kms_driven fuel_type\n",
       "0       Hyundai Santro Xing   Hyundai  2007   80000       45000    Petrol\n",
       "1       Mahindra Jeep CL550  Mahindra  2006  425000          40    Diesel\n",
       "2         Hyundai Grand i10   Hyundai  2014  325000       28000    Petrol\n",
       "3    Ford EcoSport Titanium      Ford  2014  575000       36000    Diesel\n",
       "4                 Ford Figo      Ford  2012  175000       41000    Diesel\n",
       "..                      ...       ...   ...     ...         ...       ...\n",
       "811      Maruti Suzuki Ritz    Maruti  2011  270000       50000    Petrol\n",
       "812          Tata Indica V2      Tata  2009  110000       30000    Diesel\n",
       "813    Toyota Corolla Altis    Toyota  2009  300000      132000    Petrol\n",
       "814            Tata Zest XM      Tata  2018  260000       27000    Diesel\n",
       "815      Mahindra Quanto C8  Mahindra  2013  390000       40000    Diesel\n",
       "\n",
       "[816 rows x 6 columns]"
      ]
     },
     "execution_count": 28,
     "metadata": {},
     "output_type": "execute_result"
    }
   ],
   "source": [
    "df = df.reset_index(drop=True)\n",
    "df"
   ]
  },
  {
   "cell_type": "code",
   "execution_count": 29,
   "id": "48cfda2b-fc5d-4d3d-b5c7-75538a4ec0f5",
   "metadata": {},
   "outputs": [
    {
     "name": "stdout",
     "output_type": "stream",
     "text": [
      "<class 'pandas.core.frame.DataFrame'>\n",
      "RangeIndex: 816 entries, 0 to 815\n",
      "Data columns (total 6 columns):\n",
      " #   Column      Non-Null Count  Dtype \n",
      "---  ------      --------------  ----- \n",
      " 0   name        816 non-null    object\n",
      " 1   company     816 non-null    object\n",
      " 2   year        816 non-null    int32 \n",
      " 3   Price       816 non-null    int32 \n",
      " 4   kms_driven  816 non-null    int32 \n",
      " 5   fuel_type   816 non-null    object\n",
      "dtypes: int32(3), object(3)\n",
      "memory usage: 28.8+ KB\n"
     ]
    }
   ],
   "source": [
    "df.info()"
   ]
  },
  {
   "cell_type": "code",
   "execution_count": 30,
   "id": "045735e1-42af-4af9-b2ec-73f9bc7d1804",
   "metadata": {},
   "outputs": [
    {
     "data": {
      "text/html": [
       "<div>\n",
       "<style scoped>\n",
       "    .dataframe tbody tr th:only-of-type {\n",
       "        vertical-align: middle;\n",
       "    }\n",
       "\n",
       "    .dataframe tbody tr th {\n",
       "        vertical-align: top;\n",
       "    }\n",
       "\n",
       "    .dataframe thead th {\n",
       "        text-align: right;\n",
       "    }\n",
       "</style>\n",
       "<table border=\"1\" class=\"dataframe\">\n",
       "  <thead>\n",
       "    <tr style=\"text-align: right;\">\n",
       "      <th></th>\n",
       "      <th>year</th>\n",
       "      <th>Price</th>\n",
       "      <th>kms_driven</th>\n",
       "    </tr>\n",
       "  </thead>\n",
       "  <tbody>\n",
       "    <tr>\n",
       "      <th>count</th>\n",
       "      <td>816.000000</td>\n",
       "      <td>8.160000e+02</td>\n",
       "      <td>816.000000</td>\n",
       "    </tr>\n",
       "    <tr>\n",
       "      <th>mean</th>\n",
       "      <td>2012.444853</td>\n",
       "      <td>4.117176e+05</td>\n",
       "      <td>46275.531863</td>\n",
       "    </tr>\n",
       "    <tr>\n",
       "      <th>std</th>\n",
       "      <td>4.002992</td>\n",
       "      <td>4.751844e+05</td>\n",
       "      <td>34297.428044</td>\n",
       "    </tr>\n",
       "    <tr>\n",
       "      <th>min</th>\n",
       "      <td>1995.000000</td>\n",
       "      <td>3.000000e+04</td>\n",
       "      <td>0.000000</td>\n",
       "    </tr>\n",
       "    <tr>\n",
       "      <th>25%</th>\n",
       "      <td>2010.000000</td>\n",
       "      <td>1.750000e+05</td>\n",
       "      <td>27000.000000</td>\n",
       "    </tr>\n",
       "    <tr>\n",
       "      <th>50%</th>\n",
       "      <td>2013.000000</td>\n",
       "      <td>2.999990e+05</td>\n",
       "      <td>41000.000000</td>\n",
       "    </tr>\n",
       "    <tr>\n",
       "      <th>75%</th>\n",
       "      <td>2015.000000</td>\n",
       "      <td>4.912500e+05</td>\n",
       "      <td>56818.500000</td>\n",
       "    </tr>\n",
       "    <tr>\n",
       "      <th>max</th>\n",
       "      <td>2019.000000</td>\n",
       "      <td>8.500003e+06</td>\n",
       "      <td>400000.000000</td>\n",
       "    </tr>\n",
       "  </tbody>\n",
       "</table>\n",
       "</div>"
      ],
      "text/plain": [
       "              year         Price     kms_driven\n",
       "count   816.000000  8.160000e+02     816.000000\n",
       "mean   2012.444853  4.117176e+05   46275.531863\n",
       "std       4.002992  4.751844e+05   34297.428044\n",
       "min    1995.000000  3.000000e+04       0.000000\n",
       "25%    2010.000000  1.750000e+05   27000.000000\n",
       "50%    2013.000000  2.999990e+05   41000.000000\n",
       "75%    2015.000000  4.912500e+05   56818.500000\n",
       "max    2019.000000  8.500003e+06  400000.000000"
      ]
     },
     "execution_count": 30,
     "metadata": {},
     "output_type": "execute_result"
    }
   ],
   "source": [
    "df.describe()"
   ]
  },
  {
   "cell_type": "code",
   "execution_count": 32,
   "id": "34659595-a1ae-4370-a75a-d8f6e4967334",
   "metadata": {},
   "outputs": [],
   "source": [
    "df = df[df['Price']<6000000].reset_index(drop=True)"
   ]
  },
  {
   "cell_type": "code",
   "execution_count": 33,
   "id": "909ea05b-465f-478e-b0ba-f67d44637658",
   "metadata": {},
   "outputs": [
    {
     "data": {
      "text/html": [
       "<div>\n",
       "<style scoped>\n",
       "    .dataframe tbody tr th:only-of-type {\n",
       "        vertical-align: middle;\n",
       "    }\n",
       "\n",
       "    .dataframe tbody tr th {\n",
       "        vertical-align: top;\n",
       "    }\n",
       "\n",
       "    .dataframe thead th {\n",
       "        text-align: right;\n",
       "    }\n",
       "</style>\n",
       "<table border=\"1\" class=\"dataframe\">\n",
       "  <thead>\n",
       "    <tr style=\"text-align: right;\">\n",
       "      <th></th>\n",
       "      <th>name</th>\n",
       "      <th>company</th>\n",
       "      <th>year</th>\n",
       "      <th>Price</th>\n",
       "      <th>kms_driven</th>\n",
       "      <th>fuel_type</th>\n",
       "    </tr>\n",
       "  </thead>\n",
       "  <tbody>\n",
       "    <tr>\n",
       "      <th>0</th>\n",
       "      <td>Hyundai Santro Xing</td>\n",
       "      <td>Hyundai</td>\n",
       "      <td>2007</td>\n",
       "      <td>80000</td>\n",
       "      <td>45000</td>\n",
       "      <td>Petrol</td>\n",
       "    </tr>\n",
       "    <tr>\n",
       "      <th>1</th>\n",
       "      <td>Mahindra Jeep CL550</td>\n",
       "      <td>Mahindra</td>\n",
       "      <td>2006</td>\n",
       "      <td>425000</td>\n",
       "      <td>40</td>\n",
       "      <td>Diesel</td>\n",
       "    </tr>\n",
       "    <tr>\n",
       "      <th>2</th>\n",
       "      <td>Hyundai Grand i10</td>\n",
       "      <td>Hyundai</td>\n",
       "      <td>2014</td>\n",
       "      <td>325000</td>\n",
       "      <td>28000</td>\n",
       "      <td>Petrol</td>\n",
       "    </tr>\n",
       "    <tr>\n",
       "      <th>3</th>\n",
       "      <td>Ford EcoSport Titanium</td>\n",
       "      <td>Ford</td>\n",
       "      <td>2014</td>\n",
       "      <td>575000</td>\n",
       "      <td>36000</td>\n",
       "      <td>Diesel</td>\n",
       "    </tr>\n",
       "    <tr>\n",
       "      <th>4</th>\n",
       "      <td>Ford Figo</td>\n",
       "      <td>Ford</td>\n",
       "      <td>2012</td>\n",
       "      <td>175000</td>\n",
       "      <td>41000</td>\n",
       "      <td>Diesel</td>\n",
       "    </tr>\n",
       "    <tr>\n",
       "      <th>...</th>\n",
       "      <td>...</td>\n",
       "      <td>...</td>\n",
       "      <td>...</td>\n",
       "      <td>...</td>\n",
       "      <td>...</td>\n",
       "      <td>...</td>\n",
       "    </tr>\n",
       "    <tr>\n",
       "      <th>810</th>\n",
       "      <td>Maruti Suzuki Ritz</td>\n",
       "      <td>Maruti</td>\n",
       "      <td>2011</td>\n",
       "      <td>270000</td>\n",
       "      <td>50000</td>\n",
       "      <td>Petrol</td>\n",
       "    </tr>\n",
       "    <tr>\n",
       "      <th>811</th>\n",
       "      <td>Tata Indica V2</td>\n",
       "      <td>Tata</td>\n",
       "      <td>2009</td>\n",
       "      <td>110000</td>\n",
       "      <td>30000</td>\n",
       "      <td>Diesel</td>\n",
       "    </tr>\n",
       "    <tr>\n",
       "      <th>812</th>\n",
       "      <td>Toyota Corolla Altis</td>\n",
       "      <td>Toyota</td>\n",
       "      <td>2009</td>\n",
       "      <td>300000</td>\n",
       "      <td>132000</td>\n",
       "      <td>Petrol</td>\n",
       "    </tr>\n",
       "    <tr>\n",
       "      <th>813</th>\n",
       "      <td>Tata Zest XM</td>\n",
       "      <td>Tata</td>\n",
       "      <td>2018</td>\n",
       "      <td>260000</td>\n",
       "      <td>27000</td>\n",
       "      <td>Diesel</td>\n",
       "    </tr>\n",
       "    <tr>\n",
       "      <th>814</th>\n",
       "      <td>Mahindra Quanto C8</td>\n",
       "      <td>Mahindra</td>\n",
       "      <td>2013</td>\n",
       "      <td>390000</td>\n",
       "      <td>40000</td>\n",
       "      <td>Diesel</td>\n",
       "    </tr>\n",
       "  </tbody>\n",
       "</table>\n",
       "<p>815 rows × 6 columns</p>\n",
       "</div>"
      ],
      "text/plain": [
       "                       name   company  year   Price  kms_driven fuel_type\n",
       "0       Hyundai Santro Xing   Hyundai  2007   80000       45000    Petrol\n",
       "1       Mahindra Jeep CL550  Mahindra  2006  425000          40    Diesel\n",
       "2         Hyundai Grand i10   Hyundai  2014  325000       28000    Petrol\n",
       "3    Ford EcoSport Titanium      Ford  2014  575000       36000    Diesel\n",
       "4                 Ford Figo      Ford  2012  175000       41000    Diesel\n",
       "..                      ...       ...   ...     ...         ...       ...\n",
       "810      Maruti Suzuki Ritz    Maruti  2011  270000       50000    Petrol\n",
       "811          Tata Indica V2      Tata  2009  110000       30000    Diesel\n",
       "812    Toyota Corolla Altis    Toyota  2009  300000      132000    Petrol\n",
       "813            Tata Zest XM      Tata  2018  260000       27000    Diesel\n",
       "814      Mahindra Quanto C8  Mahindra  2013  390000       40000    Diesel\n",
       "\n",
       "[815 rows x 6 columns]"
      ]
     },
     "execution_count": 33,
     "metadata": {},
     "output_type": "execute_result"
    }
   ],
   "source": [
    "df"
   ]
  },
  {
   "cell_type": "code",
   "execution_count": 36,
   "id": "55b93fb7-9af6-41bb-8c42-b9bc709d9af3",
   "metadata": {},
   "outputs": [],
   "source": [
    "import seaborn as sns"
   ]
  },
  {
   "cell_type": "code",
   "execution_count": 40,
   "id": "0638dada-a67e-43fd-bcd2-fafaf4e629d9",
   "metadata": {},
   "outputs": [
    {
     "name": "stderr",
     "output_type": "stream",
     "text": [
      "c:\\users\\hp\\documents\\new folder\\lib\\site-packages\\seaborn\\distributions.py:2619: FutureWarning: `distplot` is a deprecated function and will be removed in a future version. Please adapt your code to use either `displot` (a figure-level function with similar flexibility) or `histplot` (an axes-level function for histograms).\n",
      "  warnings.warn(msg, FutureWarning)\n"
     ]
    },
    {
     "data": {
      "text/plain": [
       "<AxesSubplot:xlabel='Price', ylabel='Density'>"
      ]
     },
     "execution_count": 40,
     "metadata": {},
     "output_type": "execute_result"
    },
    {
     "data": {
      "image/png": "[encoded data removed]",
      "text/plain": [
       "<Figure size 432x288 with 1 Axes>"
      ]
     },
     "metadata": {},
     "output_type": "display_data"
    }
   ],
   "source": [
    "sns.distplot(df[\"Price\"])"
   ]
  },
  {
   "cell_type": "code",
   "execution_count": 41,
   "id": "397a9fbf-f208-4bbe-af0b-fe9cbcc2f44e",
   "metadata": {},
   "outputs": [
    {
     "data": {
      "text/plain": [
       "<AxesSubplot:>"
      ]
     },
     "execution_count": 41,
     "metadata": {},
     "output_type": "execute_result"
    },
    {
     "data": {
      "image/png": "[encoded data removed]",
      "text/plain": [
       "<Figure size 432x288 with 1 Axes>"
      ]
     },
     "metadata": {},
     "output_type": "display_data"
    }
   ],
   "source": [
    "df[\"company\"].value_counts().plot(kind=\"bar\")"
   ]
  },
  {
   "cell_type": "code",
   "execution_count": 42,
   "id": "8ea2d5af-570e-4f12-aeed-c1cb155c0f00",
   "metadata": {},
   "outputs": [
    {
     "data": {
      "text/plain": [
       "<function matplotlib.pyplot.show(close=None, block=None)>"
      ]
     },
     "execution_count": 42,
     "metadata": {},
     "output_type": "execute_result"
    },
    {
     "data": {
      "image/png": "[encoded data removed]",
      "text/plain": [
       "<Figure size 432x288 with 1 Axes>"
      ]
     },
     "metadata": {},
     "output_type": "display_data"
    }
   ],
   "source": [
    "sns.barplot(x=df[\"company\"], y = df[\"Price\"])\n",
    "plt.xticks(rotation= \"vertical\")\n",
    "plt.show"
   ]
  },
  {
   "cell_type": "code",
   "execution_count": 43,
   "id": "21c7d796-a6ee-4670-9d69-b9369d20f78d",
   "metadata": {},
   "outputs": [
    {
     "data": {
      "text/plain": [
       "<AxesSubplot:>"
      ]
     },
     "execution_count": 43,
     "metadata": {},
     "output_type": "execute_result"
    },
    {
     "data": {
      "image/png": "[encoded data removed]",
      "text/plain": [
       "<Figure size 432x288 with 1 Axes>"
      ]
     },
     "metadata": {},
     "output_type": "display_data"
    }
   ],
   "source": [
    "df[\"year\"].value_counts().plot(kind=\"bar\")"
   ]
  },
  {
   "cell_type": "code",
   "execution_count": 44,
   "id": "ccd1a9c8-af28-4020-b121-91954da9a9d3",
   "metadata": {},
   "outputs": [
    {
     "data": {
      "text/plain": [
       "<function matplotlib.pyplot.show(close=None, block=None)>"
      ]
     },
     "execution_count": 44,
     "metadata": {},
     "output_type": "execute_result"
    },
    {
     "data": {
      "image/png": "[encoded data removed]",
      "text/plain": [
       "<Figure size 432x288 with 1 Axes>"
      ]
     },
     "metadata": {},
     "output_type": "display_data"
    }
   ],
   "source": [
    "sns.barplot(x=df[\"year\"], y = df[\"Price\"])\n",
    "plt.xticks(rotation= \"vertical\")\n",
    "plt.show"
   ]
  },
  {
   "cell_type": "code",
   "execution_count": 47,
   "id": "fd5a2ee1-174c-49a0-b271-f9ccc175fef4",
   "metadata": {},
   "outputs": [
    {
     "data": {
      "text/plain": [
       "<function matplotlib.pyplot.show(close=None, block=None)>"
      ]
     },
     "execution_count": 47,
     "metadata": {},
     "output_type": "execute_result"
    },
    {
     "data": {
      "image/png": "[encoded data removed]",
      "text/plain": [
       "<Figure size 432x288 with 1 Axes>"
      ]
     },
     "metadata": {},
     "output_type": "display_data"
    }
   ],
   "source": [
    "sns.barplot(x=df[\"fuel_type\"], y = df[\"Price\"])\n",
    "plt.xticks(rotation= \"vertical\")\n",
    "plt.show"
   ]
  },
  {
   "cell_type": "code",
   "execution_count": 48,
   "id": "d8d47fdf-c148-48e2-89c5-c7ed4bb6de4f",
   "metadata": {},
   "outputs": [
    {
     "data": {
      "text/plain": [
       "<AxesSubplot:>"
      ]
     },
     "execution_count": 48,
     "metadata": {},
     "output_type": "execute_result"
    },
    {
     "data": {
      "image/png": "[encoded data removed]",
      "text/plain": [
       "<Figure size 432x288 with 1 Axes>"
      ]
     },
     "metadata": {},
     "output_type": "display_data"
    }
   ],
   "source": [
    "df[\"fuel_type\"].value_counts().plot(kind=\"bar\")"
   ]
  },
  {
   "cell_type": "code",
   "execution_count": 50,
   "id": "7aca253a-1058-4cba-9838-b8189b31f724",
   "metadata": {},
   "outputs": [
    {
     "data": {
      "image/png": "[encoded data removed]",
      "text/plain": [
       "<Figure size 1080x504 with 1 Axes>"
      ]
     },
     "metadata": {},
     "output_type": "display_data"
    }
   ],
   "source": [
    "plt.subplots(figsize=(15,7))\n",
    "ax=sns.boxplot(x='company',y='Price',data=df)\n",
    "ax.set_xticklabels(ax.get_xticklabels(),rotation=40,ha='right')\n",
    "plt.show()"
   ]
  },
  {
   "cell_type": "code",
   "execution_count": 51,
   "id": "5901ebf0-7abe-4d06-9370-5f3420e9d669",
   "metadata": {},
   "outputs": [],
   "source": [
    "df.to_csv('Cleaned_Car_data.csv')"
   ]
  },
  {
   "cell_type": "code",
   "execution_count": 52,
   "id": "21694542-ff84-401b-ab70-290808402a87",
   "metadata": {},
   "outputs": [],
   "source": [
    "x = df.drop(columns=\"Price\")\n",
    "y = df[\"Price\"]"
   ]
  },
  {
   "cell_type": "code",
   "execution_count": 53,
   "id": "e385c7d8-d013-4fb2-a3e3-3422353a19a2",
   "metadata": {},
   "outputs": [
    {
     "data": {
      "text/html": [
       "<div>\n",
       "<style scoped>\n",
       "    .dataframe tbody tr th:only-of-type {\n",
       "        vertical-align: middle;\n",
       "    }\n",
       "\n",
       "    .dataframe tbody tr th {\n",
       "        vertical-align: top;\n",
       "    }\n",
       "\n",
       "    .dataframe thead th {\n",
       "        text-align: right;\n",
       "    }\n",
       "</style>\n",
       "<table border=\"1\" class=\"dataframe\">\n",
       "  <thead>\n",
       "    <tr style=\"text-align: right;\">\n",
       "      <th></th>\n",
       "      <th>name</th>\n",
       "      <th>company</th>\n",
       "      <th>year</th>\n",
       "      <th>kms_driven</th>\n",
       "      <th>fuel_type</th>\n",
       "    </tr>\n",
       "  </thead>\n",
       "  <tbody>\n",
       "    <tr>\n",
       "      <th>0</th>\n",
       "      <td>Hyundai Santro Xing</td>\n",
       "      <td>Hyundai</td>\n",
       "      <td>2007</td>\n",
       "      <td>45000</td>\n",
       "      <td>Petrol</td>\n",
       "    </tr>\n",
       "    <tr>\n",
       "      <th>1</th>\n",
       "      <td>Mahindra Jeep CL550</td>\n",
       "      <td>Mahindra</td>\n",
       "      <td>2006</td>\n",
       "      <td>40</td>\n",
       "      <td>Diesel</td>\n",
       "    </tr>\n",
       "    <tr>\n",
       "      <th>2</th>\n",
       "      <td>Hyundai Grand i10</td>\n",
       "      <td>Hyundai</td>\n",
       "      <td>2014</td>\n",
       "      <td>28000</td>\n",
       "      <td>Petrol</td>\n",
       "    </tr>\n",
       "    <tr>\n",
       "      <th>3</th>\n",
       "      <td>Ford EcoSport Titanium</td>\n",
       "      <td>Ford</td>\n",
       "      <td>2014</td>\n",
       "      <td>36000</td>\n",
       "      <td>Diesel</td>\n",
       "    </tr>\n",
       "    <tr>\n",
       "      <th>4</th>\n",
       "      <td>Ford Figo</td>\n",
       "      <td>Ford</td>\n",
       "      <td>2012</td>\n",
       "      <td>41000</td>\n",
       "      <td>Diesel</td>\n",
       "    </tr>\n",
       "    <tr>\n",
       "      <th>...</th>\n",
       "      <td>...</td>\n",
       "      <td>...</td>\n",
       "      <td>...</td>\n",
       "      <td>...</td>\n",
       "      <td>...</td>\n",
       "    </tr>\n",
       "    <tr>\n",
       "      <th>810</th>\n",
       "      <td>Maruti Suzuki Ritz</td>\n",
       "      <td>Maruti</td>\n",
       "      <td>2011</td>\n",
       "      <td>50000</td>\n",
       "      <td>Petrol</td>\n",
       "    </tr>\n",
       "    <tr>\n",
       "      <th>811</th>\n",
       "      <td>Tata Indica V2</td>\n",
       "      <td>Tata</td>\n",
       "      <td>2009</td>\n",
       "      <td>30000</td>\n",
       "      <td>Diesel</td>\n",
       "    </tr>\n",
       "    <tr>\n",
       "      <th>812</th>\n",
       "      <td>Toyota Corolla Altis</td>\n",
       "      <td>Toyota</td>\n",
       "      <td>2009</td>\n",
       "      <td>132000</td>\n",
       "      <td>Petrol</td>\n",
       "    </tr>\n",
       "    <tr>\n",
       "      <th>813</th>\n",
       "      <td>Tata Zest XM</td>\n",
       "      <td>Tata</td>\n",
       "      <td>2018</td>\n",
       "      <td>27000</td>\n",
       "      <td>Diesel</td>\n",
       "    </tr>\n",
       "    <tr>\n",
       "      <th>814</th>\n",
       "      <td>Mahindra Quanto C8</td>\n",
       "      <td>Mahindra</td>\n",
       "      <td>2013</td>\n",
       "      <td>40000</td>\n",
       "      <td>Diesel</td>\n",
       "    </tr>\n",
       "  </tbody>\n",
       "</table>\n",
       "<p>815 rows × 5 columns</p>\n",
       "</div>"
      ],
      "text/plain": [
       "                       name   company  year  kms_driven fuel_type\n",
       "0       Hyundai Santro Xing   Hyundai  2007       45000    Petrol\n",
       "1       Mahindra Jeep CL550  Mahindra  2006          40    Diesel\n",
       "2         Hyundai Grand i10   Hyundai  2014       28000    Petrol\n",
       "3    Ford EcoSport Titanium      Ford  2014       36000    Diesel\n",
       "4                 Ford Figo      Ford  2012       41000    Diesel\n",
       "..                      ...       ...   ...         ...       ...\n",
       "810      Maruti Suzuki Ritz    Maruti  2011       50000    Petrol\n",
       "811          Tata Indica V2      Tata  2009       30000    Diesel\n",
       "812    Toyota Corolla Altis    Toyota  2009      132000    Petrol\n",
       "813            Tata Zest XM      Tata  2018       27000    Diesel\n",
       "814      Mahindra Quanto C8  Mahindra  2013       40000    Diesel\n",
       "\n",
       "[815 rows x 5 columns]"
      ]
     },
     "execution_count": 53,
     "metadata": {},
     "output_type": "execute_result"
    }
   ],
   "source": [
    "x"
   ]
  },
  {
   "cell_type": "code",
   "execution_count": 54,
   "id": "5d2e2393-2001-4162-9fdd-2a67f9089286",
   "metadata": {},
   "outputs": [
    {
     "data": {
      "text/plain": [
       "0       80000\n",
       "1      425000\n",
       "2      325000\n",
       "3      575000\n",
       "4      175000\n",
       "        ...  \n",
       "810    270000\n",
       "811    110000\n",
       "812    300000\n",
       "813    260000\n",
       "814    390000\n",
       "Name: Price, Length: 815, dtype: int32"
      ]
     },
     "execution_count": 54,
     "metadata": {},
     "output_type": "execute_result"
    }
   ],
   "source": [
    "y"
   ]
  },
  {
   "cell_type": "code",
   "execution_count": 67,
   "id": "1cfae0b3-318c-4794-a2b3-560d916dcfe0",
   "metadata": {},
   "outputs": [],
   "source": [
    "from sklearn.model_selection import train_test_split\n",
    "x_train, x_test, y_train, y_test = train_test_split(x,y, test_size=0.2)"
   ]
  },
  {
   "cell_type": "code",
   "execution_count": 68,
   "id": "056082e8-d6b1-43c9-a090-80e0555f31df",
   "metadata": {},
   "outputs": [],
   "source": [
    "from sklearn.linear_model import LinearRegression\n",
    "from sklearn.metrics import r2_score\n",
    "from sklearn.preprocessing import OneHotEncoder\n",
    "from sklearn.compose import make_column_transformer\n",
    "from sklearn.pipeline import make_pipeline"
   ]
  },
  {
   "cell_type": "code",
   "execution_count": 69,
   "id": "7e2ad826-80c9-4546-8bc7-453439c6ac25",
   "metadata": {},
   "outputs": [
    {
     "data": {
      "text/plain": [
       "OneHotEncoder()"
      ]
     },
     "execution_count": 69,
     "metadata": {},
     "output_type": "execute_result"
    }
   ],
   "source": [
    "ohe = OneHotEncoder()\n",
    "ohe.fit(x[['name', 'company', 'fuel_type']])"
   ]
  },
  {
   "cell_type": "code",
   "execution_count": 70,
   "id": "019b2ee6-2216-46b5-960a-360d12b0e063",
   "metadata": {},
   "outputs": [],
   "source": [
    "column_trans=make_column_transformer((OneHotEncoder(categories=ohe.categories_),['name','company','fuel_type']),\n",
    "                                    remainder='passthrough')"
   ]
  },
  {
   "cell_type": "code",
   "execution_count": 71,
   "id": "e4597e24-63fd-48f7-8497-1afbead2bfde",
   "metadata": {},
   "outputs": [],
   "source": [
    "lr=LinearRegression()"
   ]
  },
  {
   "cell_type": "code",
   "execution_count": 72,
   "id": "a6f86deb-9a99-4dd4-9e03-87a3e5c81a97",
   "metadata": {},
   "outputs": [],
   "source": [
    "pipe=make_pipeline(column_trans,lr)"
   ]
  },
  {
   "cell_type": "code",
   "execution_count": 73,
   "id": "65085336-ab8a-45db-9a59-d63b20899b94",
   "metadata": {},
   "outputs": [
    {
     "data": {
      "text/plain": [
       "Pipeline(steps=[('columntransformer',\n",
       "                 ColumnTransformer(remainder='passthrough',\n",
       "                                   transformers=[('onehotencoder',\n",
       "                                                  OneHotEncoder(categories=[array(['Audi A3 Cabriolet', 'Audi A4 1.8', 'Audi A4 2.0', 'Audi A6 2.0',\n",
       "       'Audi A8', 'Audi Q3 2.0', 'Audi Q5 2.0', 'Audi Q7', 'BMW 3 Series',\n",
       "       'BMW 5 Series', 'BMW 7 Series', 'BMW X1', 'BMW X1 sDrive20d',\n",
       "       'BMW X1 xDrive20d', 'Chevrolet Beat', 'Chevrolet Beat...\n",
       "                                                                            array(['Audi', 'BMW', 'Chevrolet', 'Datsun', 'Fiat', 'Force', 'Ford',\n",
       "       'Hindustan', 'Honda', 'Hyundai', 'Jaguar', 'Jeep', 'Land',\n",
       "       'Mahindra', 'Maruti', 'Mercedes', 'Mini', 'Mitsubishi', 'Nissan',\n",
       "       'Renault', 'Skoda', 'Tata', 'Toyota', 'Volkswagen', 'Volvo'],\n",
       "      dtype=object),\n",
       "                                                                            array(['Diesel', 'LPG', 'Petrol'], dtype=object)]),\n",
       "                                                  ['name', 'company',\n",
       "                                                   'fuel_type'])])),\n",
       "                ('linearregression', LinearRegression())])"
      ]
     },
     "execution_count": 73,
     "metadata": {},
     "output_type": "execute_result"
    }
   ],
   "source": [
    "pipe.fit(x_train,y_train)"
   ]
  },
  {
   "cell_type": "code",
   "execution_count": 74,
   "id": "a24d5197-ec61-4eaa-a488-b8f0e0329e0c",
   "metadata": {},
   "outputs": [],
   "source": [
    "y_pred = pipe.predict(x_test)"
   ]
  },
  {
   "cell_type": "code",
   "execution_count": 75,
   "id": "78d62bd7-79a4-4e66-9dbe-fe13b48171d3",
   "metadata": {},
   "outputs": [
    {
     "data": {
      "text/plain": [
       "array([ 2.96559383e+05,  2.54776697e+05,  1.37312152e+03,  2.98642274e+05,\n",
       "        2.41202154e+05,  2.75851165e+05,  2.27369304e+05,  3.21634741e+05,\n",
       "        2.35451153e+05,  4.88372618e+05,  2.36146873e+05,  5.61286481e+05,\n",
       "        2.56489674e+05,  5.74556306e+05,  3.42474634e+04,  2.71008305e+04,\n",
       "        1.56091438e+05,  1.15972919e+05,  8.56668983e+05,  2.57629447e+05,\n",
       "        2.54639434e+05,  1.89136617e+06,  5.22572976e+05,  8.88083921e+05,\n",
       "        1.19849131e+05,  3.34513886e+05,  2.35068257e+05,  2.25585967e+05,\n",
       "        2.15538482e+05,  2.87735776e+05,  5.90790305e+05,  2.29458120e+05,\n",
       "        1.89146190e+06,  2.32372812e+05,  1.74734105e+06,  6.22768606e+05,\n",
       "        2.62728829e+05,  3.95795565e+05,  2.90762269e+05,  1.97685936e+05,\n",
       "        5.20274679e+05,  6.05791445e+05,  3.72526297e+05,  5.37907709e+05,\n",
       "        4.67243303e+05,  2.72417796e+05,  1.45266394e+05,  2.34974999e+05,\n",
       "        4.18215640e+05,  5.37896056e+05,  4.57475148e+05,  3.81408010e+05,\n",
       "        3.51326474e+05,  1.15301832e+05,  3.11135829e+05,  2.22701341e+05,\n",
       "        2.85139558e+05,  4.77981954e+05,  2.04357856e+05,  2.56553913e+05,\n",
       "        1.88768710e+05,  4.09172371e+05,  2.89639067e+05,  5.51636472e+05,\n",
       "        3.45795815e+05,  1.36816336e+06,  2.77519674e+05,  4.63993407e+05,\n",
       "        2.72795470e+05,  2.25148243e+05,  2.30981344e+05,  5.96727538e+05,\n",
       "        6.41207067e+05,  2.11061809e+05,  4.01174612e+05,  3.23874927e+05,\n",
       "        5.22918238e+05,  4.01141451e+05,  1.34837064e+05,  5.96725191e+05,\n",
       "        2.99794811e+05,  1.59934994e+05,  1.45396646e+05,  1.99147443e+05,\n",
       "        2.28013814e+05,  1.12109463e+05,  4.00503112e+05,  4.44324254e+05,\n",
       "        1.57943769e+05,  2.27065733e+05,  3.25043919e+05,  2.52247881e+05,\n",
       "        6.16098279e+05,  2.64710481e+05,  4.06918050e+05,  6.43700677e+05,\n",
       "        3.18359034e+05,  2.22701341e+05,  2.70547428e+05,  5.13210292e+05,\n",
       "        2.41963693e+05,  4.40382933e+05,  2.28877073e+05,  4.27927322e+05,\n",
       "        8.28048635e+05, -2.11984346e+04,  1.89146190e+06,  2.85139558e+05,\n",
       "        8.28048635e+05,  5.46369381e+05,  2.01827714e+05,  1.00802616e+05,\n",
       "        8.73605833e+04,  2.42419837e+05,  3.19948052e+05,  1.81225315e+05,\n",
       "        6.27918514e+05,  2.36276326e+05,  5.60712137e+05,  4.86090961e+05,\n",
       "        6.98720781e+05,  1.55694527e+05,  5.57606961e+05,  3.33561137e+05,\n",
       "        5.90862634e+05,  5.28916877e+05,  4.50481330e+05,  2.59578271e+05,\n",
       "        2.90762269e+05,  3.47962968e+05,  8.28048635e+05,  2.27975525e+05,\n",
       "        4.19954127e+05,  1.48899871e+06,  1.36994749e+04,  3.50752130e+05,\n",
       "        5.39637029e+04,  2.43064395e+05,  2.36791289e+05,  5.58051488e+05,\n",
       "        2.45601204e+05,  4.85939805e+05,  6.03540784e+05,  8.22917651e+04,\n",
       "        4.62605955e+05,  3.49411995e+05,  4.85939805e+05,  3.26173420e+05,\n",
       "        3.64218224e+05,  4.21106655e+04,  3.52040563e+05,  3.47234455e+05,\n",
       "        2.25389273e+05,  2.25457543e+05,  2.25585967e+05,  2.23270415e+05,\n",
       "        3.97172077e+04,  4.41980598e+05,  1.57405076e+06,  3.07657673e+05,\n",
       "        3.15070142e+05,  6.42012044e+05,  5.11594690e+05])"
      ]
     },
     "execution_count": 75,
     "metadata": {},
     "output_type": "execute_result"
    }
   ],
   "source": [
    "y_pred"
   ]
  },
  {
   "cell_type": "code",
   "execution_count": 76,
   "id": "f6bdfcc1-eaf8-48e7-a548-b3b36e06289d",
   "metadata": {},
   "outputs": [
    {
     "data": {
      "text/plain": [
       "0.8531311721822313"
      ]
     },
     "execution_count": 76,
     "metadata": {},
     "output_type": "execute_result"
    }
   ],
   "source": [
    "r2_score(y_test, y_pred)"
   ]
  },
  {
   "cell_type": "code",
   "execution_count": 77,
   "id": "df6e51e5-b771-4389-9f0d-75e1f1dd51fc",
   "metadata": {},
   "outputs": [],
   "source": [
    "scores=[]\n",
    "for i in range(10):\n",
    "    X_train,X_test,y_train,y_test=train_test_split(x,y,test_size=0.1,random_state=i)\n",
    "    lr=LinearRegression()\n",
    "    pipe=make_pipeline(column_trans,lr)\n",
    "    pipe.fit(X_train,y_train)\n",
    "    y_pred=pipe.predict(X_test)\n",
    "    scores.append(r2_score(y_test,y_pred))"
   ]
  },
  {
   "cell_type": "code",
   "execution_count": 78,
   "id": "680b0925-d9b8-453a-b739-e28dd8c0d3ab",
   "metadata": {},
   "outputs": [
    {
     "data": {
      "text/plain": [
       "4"
      ]
     },
     "execution_count": 78,
     "metadata": {},
     "output_type": "execute_result"
    }
   ],
   "source": [
    "np.argmax(scores)"
   ]
  },
  {
   "cell_type": "code",
   "execution_count": 79,
   "id": "cea08f1d-00e9-4a2b-b159-f3b534dc91a7",
   "metadata": {},
   "outputs": [
    {
     "data": {
      "text/plain": [
       "0.8781970672921271"
      ]
     },
     "execution_count": 79,
     "metadata": {},
     "output_type": "execute_result"
    }
   ],
   "source": [
    "scores[np.argmax(scores)]"
   ]
  },
  {
   "cell_type": "code",
   "execution_count": 80,
   "id": "d0f892b1-003c-4a51-8dba-a2496d00af3e",
   "metadata": {},
   "outputs": [
    {
     "data": {
      "text/plain": [
       "array([429491.48003601])"
      ]
     },
     "execution_count": 80,
     "metadata": {},
     "output_type": "execute_result"
    }
   ],
   "source": [
    "pipe.predict(pd.DataFrame(columns=X_test.columns,data=np.array(['Maruti Suzuki Swift','Maruti',2019,100,'Petrol']).reshape(1,5)))"
   ]
  },
  {
   "cell_type": "code",
   "execution_count": 81,
   "id": "4f3bc2d4-74cd-44fe-b3f5-f0d177dbe45c",
   "metadata": {},
   "outputs": [
    {
     "data": {
      "text/plain": [
       "0.8781970672921271"
      ]
     },
     "execution_count": 81,
     "metadata": {},
     "output_type": "execute_result"
    }
   ],
   "source": [
    "X_train,X_test,y_train,y_test=train_test_split(x,y,test_size=0.1,random_state=np.argmax(scores))\n",
    "lr=LinearRegression()\n",
    "pipe=make_pipeline(column_trans,lr)\n",
    "pipe.fit(X_train,y_train)\n",
    "y_pred=pipe.predict(X_test)\n",
    "r2_score(y_test,y_pred)"
   ]
  },
  {
   "cell_type": "code",
   "execution_count": 82,
   "id": "7586bab1-c2d4-4de3-83c8-1f11da9ce64d",
   "metadata": {},
   "outputs": [],
   "source": [
    "import pickle"
   ]
  },
  {
   "cell_type": "code",
   "execution_count": 83,
   "id": "b294bd85-b963-476a-8f31-8a713d2efe10",
   "metadata": {},
   "outputs": [],
   "source": [
    "pickle.dump(pipe,open('LinearRegressionModel.pkl','wb'))"
   ]
  },
  {
   "cell_type": "code",
   "execution_count": 84,
   "id": "ff4cca64-9552-4f33-8157-3b96f4ddb85e",
   "metadata": {},
   "outputs": [
    {
     "data": {
      "text/plain": [
       "array(['Audi A3 Cabriolet', 'Audi A4 1.8', 'Audi A4 2.0', 'Audi A6 2.0',\n",
       "       'Audi A8', 'Audi Q3 2.0', 'Audi Q5 2.0', 'Audi Q7', 'BMW 3 Series',\n",
       "       'BMW 5 Series', 'BMW 7 Series', 'BMW X1', 'BMW X1 sDrive20d',\n",
       "       'BMW X1 xDrive20d', 'Chevrolet Beat', 'Chevrolet Beat Diesel',\n",
       "       'Chevrolet Beat LS', 'Chevrolet Beat LT', 'Chevrolet Beat PS',\n",
       "       'Chevrolet Cruze LTZ', 'Chevrolet Enjoy', 'Chevrolet Enjoy 1.4',\n",
       "       'Chevrolet Sail 1.2', 'Chevrolet Sail UVA', 'Chevrolet Spark',\n",
       "       'Chevrolet Spark 1.0', 'Chevrolet Spark LS', 'Chevrolet Spark LT',\n",
       "       'Chevrolet Tavera LS', 'Chevrolet Tavera Neo', 'Datsun GO T',\n",
       "       'Datsun Go Plus', 'Datsun Redi GO', 'Fiat Linea Emotion',\n",
       "       'Fiat Petra ELX', 'Fiat Punto Emotion', 'Force Motors Force',\n",
       "       'Force Motors One', 'Ford EcoSport', 'Ford EcoSport Ambiente',\n",
       "       'Ford EcoSport Titanium', 'Ford EcoSport Trend',\n",
       "       'Ford Endeavor 4x4', 'Ford Fiesta', 'Ford Fiesta SXi', 'Ford Figo',\n",
       "       'Ford Figo Diesel', 'Ford Figo Duratorq', 'Ford Figo Petrol',\n",
       "       'Ford Fusion 1.4', 'Ford Ikon 1.3', 'Ford Ikon 1.6',\n",
       "       'Hindustan Motors Ambassador', 'Honda Accord', 'Honda Amaze',\n",
       "       'Honda Amaze 1.2', 'Honda Amaze 1.5', 'Honda Brio', 'Honda Brio V',\n",
       "       'Honda Brio VX', 'Honda City', 'Honda City 1.5', 'Honda City SV',\n",
       "       'Honda City VX', 'Honda City ZX', 'Honda Jazz S', 'Honda Jazz VX',\n",
       "       'Honda Mobilio', 'Honda Mobilio S', 'Honda WR V', 'Hyundai Accent',\n",
       "       'Hyundai Accent Executive', 'Hyundai Accent GLE',\n",
       "       'Hyundai Accent GLX', 'Hyundai Creta', 'Hyundai Creta 1.6',\n",
       "       'Hyundai Elantra 1.8', 'Hyundai Elantra SX', 'Hyundai Elite i20',\n",
       "       'Hyundai Eon', 'Hyundai Eon D', 'Hyundai Eon Era',\n",
       "       'Hyundai Eon Magna', 'Hyundai Eon Sportz', 'Hyundai Fluidic Verna',\n",
       "       'Hyundai Getz', 'Hyundai Getz GLE', 'Hyundai Getz Prime',\n",
       "       'Hyundai Grand i10', 'Hyundai Santro', 'Hyundai Santro AE',\n",
       "       'Hyundai Santro Xing', 'Hyundai Sonata Transform', 'Hyundai Verna',\n",
       "       'Hyundai Verna 1.4', 'Hyundai Verna 1.6', 'Hyundai Verna Fluidic',\n",
       "       'Hyundai Verna Transform', 'Hyundai Verna VGT',\n",
       "       'Hyundai Xcent Base', 'Hyundai Xcent SX', 'Hyundai i10',\n",
       "       'Hyundai i10 Era', 'Hyundai i10 Magna', 'Hyundai i10 Sportz',\n",
       "       'Hyundai i20', 'Hyundai i20 Active', 'Hyundai i20 Asta',\n",
       "       'Hyundai i20 Magna', 'Hyundai i20 Select', 'Hyundai i20 Sportz',\n",
       "       'Jaguar XE XE', 'Jaguar XF 2.2', 'Jeep Wrangler Unlimited',\n",
       "       'Land Rover Freelander', 'Mahindra Bolero DI',\n",
       "       'Mahindra Bolero Power', 'Mahindra Bolero SLE',\n",
       "       'Mahindra Jeep CL550', 'Mahindra Jeep MM', 'Mahindra KUV100',\n",
       "       'Mahindra KUV100 K8', 'Mahindra Logan', 'Mahindra Logan Diesel',\n",
       "       'Mahindra Quanto C4', 'Mahindra Quanto C8', 'Mahindra Scorpio',\n",
       "       'Mahindra Scorpio 2.6', 'Mahindra Scorpio LX',\n",
       "       'Mahindra Scorpio S10', 'Mahindra Scorpio S4',\n",
       "       'Mahindra Scorpio SLE', 'Mahindra Scorpio SLX',\n",
       "       'Mahindra Scorpio VLX', 'Mahindra Scorpio Vlx',\n",
       "       'Mahindra Scorpio W', 'Mahindra TUV300 T4', 'Mahindra TUV300 T8',\n",
       "       'Mahindra Thar CRDe', 'Mahindra XUV500', 'Mahindra XUV500 W10',\n",
       "       'Mahindra XUV500 W6', 'Mahindra XUV500 W8', 'Mahindra Xylo D2',\n",
       "       'Mahindra Xylo E4', 'Mahindra Xylo E8', 'Maruti Suzuki 800',\n",
       "       'Maruti Suzuki A', 'Maruti Suzuki Alto', 'Maruti Suzuki Baleno',\n",
       "       'Maruti Suzuki Celerio', 'Maruti Suzuki Ciaz',\n",
       "       'Maruti Suzuki Dzire', 'Maruti Suzuki Eeco',\n",
       "       'Maruti Suzuki Ertiga', 'Maruti Suzuki Esteem',\n",
       "       'Maruti Suzuki Estilo', 'Maruti Suzuki Maruti',\n",
       "       'Maruti Suzuki Omni', 'Maruti Suzuki Ritz', 'Maruti Suzuki S',\n",
       "       'Maruti Suzuki SX4', 'Maruti Suzuki Stingray',\n",
       "       'Maruti Suzuki Swift', 'Maruti Suzuki Versa',\n",
       "       'Maruti Suzuki Vitara', 'Maruti Suzuki Wagon', 'Maruti Suzuki Zen',\n",
       "       'Mercedes Benz A', 'Mercedes Benz B', 'Mercedes Benz C',\n",
       "       'Mercedes Benz GLA', 'Mini Cooper S', 'Mitsubishi Lancer 1.8',\n",
       "       'Mitsubishi Pajero Sport', 'Nissan Micra XL', 'Nissan Micra XV',\n",
       "       'Nissan Sunny', 'Nissan Sunny XL', 'Nissan Terrano XL',\n",
       "       'Nissan X Trail', 'Renault Duster', 'Renault Duster 110',\n",
       "       'Renault Duster 110PS', 'Renault Duster 85', 'Renault Duster 85PS',\n",
       "       'Renault Duster RxL', 'Renault Kwid', 'Renault Kwid 1.0',\n",
       "       'Renault Kwid RXT', 'Renault Lodgy 85', 'Renault Scala RxL',\n",
       "       'Skoda Fabia', 'Skoda Fabia 1.2L', 'Skoda Fabia Classic',\n",
       "       'Skoda Laura', 'Skoda Octavia Classic', 'Skoda Rapid Elegance',\n",
       "       'Skoda Superb 1.8', 'Skoda Yeti Ambition', 'Tata Aria Pleasure',\n",
       "       'Tata Bolt XM', 'Tata Indica', 'Tata Indica V2', 'Tata Indica eV2',\n",
       "       'Tata Indigo CS', 'Tata Indigo LS', 'Tata Indigo LX',\n",
       "       'Tata Indigo Marina', 'Tata Indigo eCS', 'Tata Manza',\n",
       "       'Tata Manza Aqua', 'Tata Manza Aura', 'Tata Manza ELAN',\n",
       "       'Tata Nano', 'Tata Nano Cx', 'Tata Nano GenX', 'Tata Nano LX',\n",
       "       'Tata Nano Lx', 'Tata Sumo Gold', 'Tata Sumo Grande',\n",
       "       'Tata Sumo Victa', 'Tata Tiago Revotorq', 'Tata Tiago Revotron',\n",
       "       'Tata Tigor Revotron', 'Tata Venture EX', 'Tata Vista Quadrajet',\n",
       "       'Tata Zest Quadrajet', 'Tata Zest XE', 'Tata Zest XM',\n",
       "       'Toyota Corolla', 'Toyota Corolla Altis', 'Toyota Corolla H2',\n",
       "       'Toyota Etios', 'Toyota Etios G', 'Toyota Etios GD',\n",
       "       'Toyota Etios Liva', 'Toyota Fortuner', 'Toyota Fortuner 3.0',\n",
       "       'Toyota Innova 2.0', 'Toyota Innova 2.5', 'Toyota Qualis',\n",
       "       'Volkswagen Jetta Comfortline', 'Volkswagen Jetta Highline',\n",
       "       'Volkswagen Passat Diesel', 'Volkswagen Polo',\n",
       "       'Volkswagen Polo Comfortline', 'Volkswagen Polo Highline',\n",
       "       'Volkswagen Polo Highline1.2L', 'Volkswagen Polo Trendline',\n",
       "       'Volkswagen Vento Comfortline', 'Volkswagen Vento Highline',\n",
       "       'Volkswagen Vento Konekt', 'Volvo S80 Summum'], dtype=object)"
      ]
     },
     "execution_count": 84,
     "metadata": {},
     "output_type": "execute_result"
    }
   ],
   "source": [
    "pipe.steps[0][1].transformers[0][1].categories[0]"
   ]
  },
  {
   "cell_type": "code",
   "execution_count": null,
   "id": "868b6195-334f-40d5-bc34-7e2dd47acc06",
   "metadata": {},
   "outputs": [],
   "source": []
  }
 ],
 "metadata": {
  "kernelspec": {
   "display_name": "Python 3 (ipykernel)",
   "language": "python",
   "name": "python3"
  },
  "language_info": {
   "codemirror_mode": {
    "name": "ipython",
    "version": 3
   },
   "file_extension": ".py",
   "mimetype": "text/x-python",
   "name": "python",
   "nbconvert_exporter": "python",
   "pygments_lexer": "ipython3",
   "version": "3.9.6"
  }
 },
 "nbformat": 4,
 "nbformat_minor": 5
}
